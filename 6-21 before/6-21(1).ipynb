{
 "cells": [
  {
   "cell_type": "markdown",
   "metadata": {},
   "source": [
    "# 任务一"
   ]
  },
  {
   "cell_type": "code",
   "execution_count": null,
   "metadata": {},
   "outputs": [],
   "source": [
    "# 导入数据\n",
    "import pandas as pd\n",
    "df1 = pd.read_excel(r'D:\\研究生资料\\玛氏数据\\5-22\\chengdu_521.xlsx')\n",
    "df_POI = pd.read_excel(r'D:\\研究生资料\\玛氏数据\\chengdu_poi_category.xlsx')"
   ]
  },
  {
   "cell_type": "markdown",
   "metadata": {},
   "source": [
    "## 一、求对口香糖影响较大的POI"
   ]
  },
  {
   "cell_type": "markdown",
   "metadata": {},
   "source": [
    "1)\t筛选出销售口香糖的门店，求出销售口香糖门店对应的POI；\n",
    "\n"
   ]
  },
  {
   "cell_type": "code",
   "execution_count": null,
   "metadata": {},
   "outputs": [],
   "source": [
    "# 卖Chewing的'store_code'\n",
    "Chewing_storeid=set(df1.loc[df1['ProductCategory']=='Chewing/Bubble Gum','store_code'])\n",
    "Chewing_storeid=list(Chewing_storeid)\n",
    "# 销售Chewing门店对应的POI\n",
    "Chewing_POI=df_POI[df_POI['storecode'].isin(Chewing_storeid)]"
   ]
  },
  {
   "cell_type": "markdown",
   "metadata": {},
   "source": [
    "2)\t筛选出不销售口香糖的门店，求出不销售口香糖门店对应的POI；\n"
   ]
  },
  {
   "cell_type": "code",
   "execution_count": null,
   "metadata": {},
   "outputs": [],
   "source": [
    "# 不卖Chewing的'store_code'\n",
    "all_storeid = list(df1['store_code'])\n",
    "NoChewing_storeid=list(set(all_storeid)-set(Chewing_storeid))\n",
    "# 不销售Chewing门店对应的POI\n",
    "NoChewing_POI=df_POI[df_POI['storecode'].isin(NoChewing_storeid)]"
   ]
  },
  {
   "cell_type": "markdown",
   "metadata": {},
   "source": [
    "3)\t筛选出销售口香糖平均下单订单时间大于6个月的门店，求出这些门店对应的POI；\n"
   ]
  },
  {
   "cell_type": "code",
   "execution_count": null,
   "metadata": {},
   "outputs": [],
   "source": [
    "# 把Chewing的那部分分成下单周期小于6个月和下达周期大于6个月两类\n",
    "Cstore_id_da6 = [] # 用来储存买Chewing的那部分下单周期大于6个月的'store_code'\n",
    "Cstore_id_xiao6 = [] # 用来储存买Chewing的那部分下单周期小于等于6个月的'store_code'\n",
    "for i in range(len(Chewing_storeid)):\n",
    "    demo0 = df1.loc[df1['store_code']==Chewing_storeid[i]]\n",
    "    # 这些门店可能同时买三种产品，拿出卖Chewing的记录\n",
    "    demo0_1 = demo0.loc[demo0['ProductCategory']=='Chewing/Bubble Gum']\n",
    "    # 选出订单时间\n",
    "    demo1 = demo0_1['order_date']\n",
    "    demo1 = demo1.sort_values()# 时间排序\n",
    "    # 时间提取，不要小时。。。\n",
    "    aa=demo1.map(lambda x: x.strftime('%Y-%m-%d'))\n",
    "    # 将字符串转变为时间\n",
    "    demo1=pd.to_datetime(aa)\n",
    "    demo1_index = list(demo1.index)\n",
    "\n",
    "    day=(demo1[demo1_index[-1]]-demo1[demo1_index[0]]).days\n",
    "    \n",
    "    #计算订单个数(将订单时间相等的订单当做一个订单)\n",
    "    order_sum=list(set(list(demo1)))\n",
    "    order_sum=len(order_sum)\n",
    "    #interval = day/(order_sum-1)，要提前判断下分母是否等于0\n",
    "    if order_sum-1==0:\n",
    "        Cstore_id_da6.append(Chewing_storeid[i])\n",
    "    else:\n",
    "        interval = day/(order_sum-1)\n",
    "        if interval>180:\n",
    "            Cstore_id_da6.append(Chewing_storeid[i])\n",
    "        else:\n",
    "            Cstore_id_xiao6.append(Chewing_storeid[i]) \n",
    "            \n",
    "            \n",
    "# Cstore_id_da6门店对应的POI\n",
    "Cstore_id_da6_POI=df_POI[df_POI['storecode'].isin(Cstore_id_da6)]"
   ]
  },
  {
   "cell_type": "markdown",
   "metadata": {},
   "source": [
    "4)\t用销售口香糖门店对应的POI减去口香糖平均下单时间大月6个月门店对应的POI，再减去不销售口香糖门店对应的POI，得到对口香糖影响较大的POI"
   ]
  },
  {
   "cell_type": "code",
   "execution_count": null,
   "metadata": {},
   "outputs": [],
   "source": [
    "a1=set(Chewing_POI['s_cat_id'])\n",
    "a2=set(Cstore_id_da6_POI['s_cat_id'])\n",
    "a3=set(NoChewing_POI['s_cat_id'])\n",
    "a4=list(a1-a2-a3)\n",
    "df_aa = Chewing_POI[Chewing_POI['s_cat_id'].isin(a4)]\n",
    "# 去除s_cat_value列的重复值\n",
    "df_aa_1=df_aa.drop_duplicates(['s_cat_value'])\n",
    "df_aa_1.to_excel(r'C:\\Users\\Administrator\\Desktop\\任务一（一）.xlsx')"
   ]
  },
  {
   "cell_type": "markdown",
   "metadata": {},
   "source": [
    "## 二、口香糖在销量维度的最强POI"
   ]
  },
  {
   "cell_type": "markdown",
   "metadata": {},
   "source": [
    "1)\t求出各个门店中口香糖占总销量的比重；\n",
    "\n"
   ]
  },
  {
   "cell_type": "code",
   "execution_count": null,
   "metadata": {},
   "outputs": [],
   "source": [
    "import numpy as np\n",
    "\n",
    "# 卖Chewing的'store_code'\n",
    "Chewing_storeid=set(df1.loc[df1['ProductCategory']=='Chewing/Bubble Gum','store_code'])\n",
    "Chewing_storeid=list(Chewing_storeid)\n",
    "\n",
    "keys_1 = []\n",
    "values_1 = []\n",
    "for i in range(len(Chewing_storeid)):\n",
    "    demo1 = list(df1.loc[(df1['store_code']==Chewing_storeid[i])&(df1['ProductCategory']=='Chewing/Bubble Gum'),'case_ordered'])\n",
    "    demo2 = list(df1.loc[(df1['store_code']==Chewing_storeid[i]),'case_ordered'])\n",
    "    demo3 = np.array(demo1).sum()/np.array(demo2).sum()\n",
    "    keys_1.append(Chewing_storeid[i])\n",
    "    values_1.append(demo3)"
   ]
  },
  {
   "cell_type": "markdown",
   "metadata": {},
   "source": [
    "2)\t按照销量比重，将门店分为3类，比重小于30% （弱）、比重大于70%（强），比重在30%~70%之间（中）；\n"
   ]
  },
  {
   "cell_type": "code",
   "execution_count": null,
   "metadata": {},
   "outputs": [],
   "source": [
    "data1 = {\n",
    "    \"store_code\": keys_1,\n",
    "    \"prop\":values_1\n",
    "}\n",
    "df_cc = pd.DataFrame(data1)\n",
    "bins = [0, 0.3, 0.7, 1]\n",
    "df_cc['Categories'] = pd.cut(df_cc['prop'], bins)\n",
    "df_cc['four'] =df_cc['Categories'].cat.codes\n",
    "# 求出每一类别对应的store_code\n",
    "type_0_cc = list(df_cc.loc[df_cc['four']==0,'store_code'])\n",
    "type_1_cc = list(df_cc.loc[df_cc['four']==1,'store_code'])\n",
    "type_2_cc = list(df_cc.loc[df_cc['four']==2,'store_code'])"
   ]
  },
  {
   "cell_type": "markdown",
   "metadata": {},
   "source": [
    "3)\t求出（2）中每一类门店对应的POI;\n"
   ]
  },
  {
   "cell_type": "code",
   "execution_count": null,
   "metadata": {},
   "outputs": [],
   "source": [
    "# 筛选出第一类门店对应的POI;\n",
    "Type_0_cc = df_POI[df_POI['storecode'].isin(type_0_cc)]\n",
    "Type_0_cc_1 = Type_0_cc.drop_duplicates(['s_cat_id'])\n",
    "# Type_0_cc_1.to_excel(r'C:\\Users\\Administrator\\Desktop\\Chewing弱.xlsx')\n",
    "# 筛选出第二类门店对应的POI;\n",
    "Type_1_cc = df_POI[df_POI['storecode'].isin(type_1_cc)]\n",
    "Type_1_cc_1 = Type_1_cc.drop_duplicates(['s_cat_id'])\n",
    "# Type_1_cc_1.to_excel(r'C:\\Users\\Administrator\\Desktop\\Chewing中.xlsx')\n",
    "# 筛选出第类三门店对应的POI;\n",
    "Type_2_cc = df_POI[df_POI['storecode'].isin(type_2_cc)]\n",
    "Type_2_cc_1 = Type_2_cc.drop_duplicates(['s_cat_id'])\n",
    "# Type_1_cc_1.to_excel(r'C:\\Users\\Administrator\\Desktop\\Chewing强.xlsx')"
   ]
  },
  {
   "cell_type": "markdown",
   "metadata": {},
   "source": [
    "4)\t用强标签减去中标签再减去弱标签，求出对口香糖销量影响最大的POI（强标签独有集合）；"
   ]
  },
  {
   "cell_type": "code",
   "execution_count": null,
   "metadata": {},
   "outputs": [],
   "source": [
    "b1=set(Type_0_cc_1['s_cat_id'])\n",
    "b2=set(Type_1_cc_1['s_cat_id'])\n",
    "b3=set(Type_2_cc_1['s_cat_id'])\n",
    "b4=list(b3-b2-b1)\n",
    "df_bb = Type_2_cc_1[Type_2_cc_1['s_cat_id'].isin(b4)]\n",
    "df_bb.to_excel(r'C:\\Users\\Administrator\\Desktop\\任务一（二）.xlsx')"
   ]
  },
  {
   "cell_type": "markdown",
   "metadata": {},
   "source": [
    "## 三、（一）和（二）的交集"
   ]
  },
  {
   "cell_type": "markdown",
   "metadata": {},
   "source": [
    "1)\t用“（一）对口香糖你影响较大的POI集合”和“（二）对口香糖销量影响最大的POI集合”求交集；\n"
   ]
  },
  {
   "cell_type": "code",
   "execution_count": null,
   "metadata": {},
   "outputs": [],
   "source": [
    "c1 = list(set(a4)&set(b4))\n",
    "df_cc = Type_2_cc_1[Type_2_cc_1['s_cat_id'].isin(c1)]\n",
    "df_cc.to_excel(r'C:\\Users\\Administrator\\Desktop\\任务一（三1）.xlsx')"
   ]
  },
  {
   "cell_type": "markdown",
   "metadata": {},
   "source": [
    "2)\t强标签独有集合减去平均下单时间大于6个月门店对应的POI集合\n"
   ]
  },
  {
   "cell_type": "code",
   "execution_count": null,
   "metadata": {},
   "outputs": [],
   "source": [
    " 强标签POI集合 Type_2_cc_1\n",
    "# 平均下单时间大于6个月门店对应的POI集合 Cstore_id_da6_POI\n",
    "d1=set(Type_2_cc_1['s_cat_id'])\n",
    "d2=set(Cstore_id_da6_POI['s_cat_id'])\n",
    "d3=list(d1-d2)\n",
    "df_dd = Type_2_cc_1[Type_2_cc_1['s_cat_id'].isin(d3)]\n",
    "df_dd.to_excel(r'C:\\Users\\Administrator\\Desktop\\任务二（三2）.xlsx')"
   ]
  },
  {
   "cell_type": "markdown",
   "metadata": {},
   "source": [
    "3)\t（2）中的POI集合与不销售口香糖门店对应的POI求交集\n"
   ]
  },
  {
   "cell_type": "code",
   "execution_count": null,
   "metadata": {},
   "outputs": [],
   "source": [
    "# 不销售Chewing门店对应的POI NoChewing_POI\n",
    "e1=set(NoChewing_POI['s_cat_id'])\n",
    "e2=list(set(d3)&e1)\n",
    "df_ee = Type_2_cc_1[Type_2_cc_1['s_cat_id'].isin(e2)]\n",
    "df_ee.to_excel(r'C:\\Users\\Administrator\\Desktop\\任务一（三3）.xlsx')"
   ]
  }
 ],
 "metadata": {
  "kernelspec": {
   "display_name": "Python 3",
   "language": "python",
   "name": "python3"
  },
  "language_info": {
   "codemirror_mode": {
    "name": "ipython",
    "version": 3
   },
   "file_extension": ".py",
   "mimetype": "text/x-python",
   "name": "python",
   "nbconvert_exporter": "python",
   "pygments_lexer": "ipython3",
   "version": "3.7.6"
  }
 },
 "nbformat": 4,
 "nbformat_minor": 4
}
