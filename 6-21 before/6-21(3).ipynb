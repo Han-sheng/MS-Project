{
 "cells": [
  {
   "cell_type": "markdown",
   "metadata": {},
   "source": [
    "# 任务三"
   ]
  },
  {
   "cell_type": "code",
   "execution_count": null,
   "metadata": {},
   "outputs": [],
   "source": [
    "# 导入数据\n",
    "import pandas as pd\n",
    "df1 = pd.read_excel(r'D:\\研究生资料\\玛氏数据\\5-22\\chengdu_521.xlsx')\n",
    "df_POI = pd.read_excel(r'D:\\研究生资料\\玛氏数据\\chengdu_poi_category.xlsx')"
   ]
  },
  {
   "cell_type": "markdown",
   "metadata": {},
   "source": [
    "## 一、\t巧克力订单平均下单时间小于6个月的门店对应POI销量的统计"
   ]
  },
  {
   "cell_type": "markdown",
   "metadata": {},
   "source": [
    "1)\t从订单表中筛选出卖巧克力的门店；"
   ]
  },
  {
   "cell_type": "code",
   "execution_count": null,
   "metadata": {},
   "outputs": [],
   "source": [
    "# 卖Chocolate的'store_code'\n",
    "Chocolate_storeid=set(df1.loc[df1['ProductCategory']=='Chocolate','store_code'])\n",
    "Chocolate_storeid=list(Chocolate_storeid)"
   ]
  },
  {
   "cell_type": "markdown",
   "metadata": {},
   "source": [
    "2)\t求出卖巧克力门店中平均下单时间小于6个月的门店；\n",
    "（平均下单时间=（最晚下单时间-最早下单时间）/(订单总量-1)）"
   ]
  },
  {
   "cell_type": "code",
   "execution_count": null,
   "metadata": {},
   "outputs": [],
   "source": [
    "# 把Chocolate的那部分分成下单周期小于6个月和下达周期大于6个月两类\n",
    "Cstore_id_da6 = [] # 用来储存买Chocolate的那部分下单周期大于6个月的'store_code'\n",
    "Cstore_id_xiao6 = [] # 用来储存买Chocolate的那部分下单周期小于等于6个月的'store_code'\n",
    "for i in range(len(Chocolate_storeid)):\n",
    "    demo0 = df1.loc[df1['store_code']==Chocolate_storeid[i]]\n",
    "    # 这些门店可能同时买三种产品，拿出卖Chocolate的记录\n",
    "    demo0_1 = demo0.loc[demo0['ProductCategory']=='Chocolate']\n",
    "    # 选出订单时间\n",
    "    demo1 = demo0_1['order_date']\n",
    "    demo1 = demo1.sort_values()# 时间排序\n",
    "    # 时间提取，不要小时。。。\n",
    "    aa=demo1.map(lambda x: x.strftime('%Y-%m-%d'))\n",
    "    # 将字符串转变为时间\n",
    "    demo1=pd.to_datetime(aa)\n",
    "    demo1_index = list(demo1.index)\n",
    "\n",
    "    day=(demo1[demo1_index[-1]]-demo1[demo1_index[0]]).days\n",
    "    \n",
    "    #计算订单个数(将订单时间相等的订单当做一个订单)\n",
    "    order_sum=list(set(list(demo1)))\n",
    "    order_sum=len(order_sum)\n",
    "    #interval = day/(order_sum-1)，要提前判断下分母是否等于0\n",
    "    if order_sum-1==0:\n",
    "        Cstore_id_da6.append(Chocolate_storeid[i])\n",
    "    else:\n",
    "        interval = day/(order_sum-1)\n",
    "        if interval>180:\n",
    "            Cstore_id_da6.append(Chocolate_storeid[i])\n",
    "        else:\n",
    "            Cstore_id_xiao6.append(Chocolate_storeid[i]) "
   ]
  },
  {
   "cell_type": "markdown",
   "metadata": {},
   "source": [
    "3)\t求出（2）中每个门店的poi，然后去重、去充电宝，根据距离由小到大选择前20个POI；"
   ]
  },
  {
   "cell_type": "code",
   "execution_count": null,
   "metadata": {},
   "outputs": [],
   "source": [
    "# Cstore_id_xiao6对应的poi\n",
    "Cstore_id_xiao6_POI=df_POI[df_POI['storecode'].isin(Cstore_id_xiao6)]\n",
    "# 去充电宝\n",
    "Cstore_id_xiao6_POI=Cstore_id_xiao6_POI.drop(Cstore_id_xiao6_POI[Cstore_id_xiao6_POI['s_cat_value']=='充电宝'].index)\n",
    "# 根据距离由小到大选择前20个POI\n",
    "CC_da6_POI.sort_values(['storecode','s_cat_id','distance'],ascending=[1,0,1],inplace=True)\n",
    "k1_1 = CC_da6_POI.groupby(['storecode','s_cat_id']).head(20)"
   ]
  },
  {
   "cell_type": "markdown",
   "metadata": {},
   "source": [
    "4)\t求出（2）中每个门店巧克力的销量（case-ordered）；"
   ]
  },
  {
   "cell_type": "code",
   "execution_count": null,
   "metadata": {},
   "outputs": [],
   "source": [
    "# 在Cstore_id_xiao6里面筛选出卖巧克力的门店；\n",
    "demo1=df1.loc[df1['store_code'].isin(Cstore_id_xiao6)]\n",
    "demo2=demo1.loc[demo1['ProductCategory']=='Chocolate']\n",
    "Cstore_id_xiao6_Cho=list(set(list(demo2['store_code'])))\n",
    "# 门店巧克力销售加总\n",
    "cho_sum=[] \n",
    "for i in range(len(Cstore_id_xiao6_Cho)):\n",
    "    demo3 = df1.loc[df1['store_code']==Cstore_id_xiao6_Cho[i]]\n",
    "    sum_1 = demo3.loc[demo3['ProductCategory']=='Chocolate','case_ordered'].sum()\n",
    "    cho_sum.append(sum_1)"
   ]
  },
  {
   "cell_type": "markdown",
   "metadata": {},
   "source": [
    "5)\t将（4）中的每个门店销量赋值到（3）中每个门店对应的POI上；"
   ]
  },
  {
   "cell_type": "code",
   "execution_count": null,
   "metadata": {},
   "outputs": [],
   "source": [
    "# k1_1赋上销量信息\n",
    "# 构建门店编号及其销量信息的表\n",
    "data3={\n",
    "    'Cstore_id_xiao6_Cho':Cstore_id_xiao6_Cho,\n",
    "    'cho_sum':cho_sum\n",
    "}\n",
    "data3=pd.DataFrame(data3)\n",
    "data3.sort_values(by='Cstore_id_xiao6_Cho',inplace=True)\n",
    "\n",
    "k1_1.sort_values(by='storecode',inplace=True)\n",
    "\n",
    "sum_2=list(data3['cho_sum'])\n",
    "s_id =list(data3['Cstore_id_xiao6_Cho'])\n",
    "\n",
    "sum_3 =[]\n",
    "for i in range(len(s_id)):\n",
    "    cc=len(k1_1.loc[k1_1['storecode']==s_id[i]])\n",
    "    for j in range(cc):\n",
    "        sum_3.append(sum_2[i])\n",
    "\n",
    "\n",
    "k1_1['总销量']=sum_3\n",
    "\n",
    "fff=k1_1[['b_cat_id','b_cat_value','m_cat_id','m_cat_value','s_cat_id','s_cat_value','总销量']]"
   ]
  },
  {
   "cell_type": "markdown",
   "metadata": {},
   "source": [
    "6)\t求每个POI的销量累计值，按照销量由大到小排序，形成list1；\n"
   ]
  },
  {
   "cell_type": "code",
   "execution_count": null,
   "metadata": {},
   "outputs": [],
   "source": [
    "k5_4 = fff.groupby(['s_cat_id','s_cat_value'])['总销量'].sum()\n",
    "k5_4 = k5_4.reset_index()\n",
    "k5_4.sort_values(['总销量'],ascending=[0],inplace=True)\n",
    "tt= list(k5_4['s_cat_id'])\n",
    "r1=[]\n",
    "r2=[]\n",
    "r3=[]\n",
    "r4=[]\n",
    "for i in range(len(tt)):\n",
    "    r1.append(list(set(list(fff.loc[fff['s_cat_id']==tt[i],'b_cat_id'])))[0])\n",
    "    r2.append(list(set(list(fff.loc[fff['s_cat_id']==tt[i],'b_cat_value'])))[0])\n",
    "    r3.append(list(set(list(fff.loc[fff['s_cat_id']==tt[i],'m_cat_id'])))[0])\n",
    "    r4.append(list(set(list(fff.loc[fff['s_cat_id']==tt[i],'m_cat_value'])))[0])\n",
    "k5_4['b_cat_id']=r1\n",
    "k5_4['b_cat_value']=r2\n",
    "k5_4['m_cat_id']=r3\n",
    "k5_4['m_cat_value']=r4\n",
    "\n",
    "k5_4=k5_4[['b_cat_id','b_cat_value','m_cat_id','m_cat_value','s_cat_id','s_cat_value','总销量']]"
   ]
  },
  {
   "cell_type": "markdown",
   "metadata": {},
   "source": [
    "7)\t选取销量的前20组成list1-1"
   ]
  },
  {
   "cell_type": "code",
   "execution_count": null,
   "metadata": {},
   "outputs": [],
   "source": [
    "k5_5=k5_4.head(20)\n",
    "k5_5.to_excel(r'C:\\Users\\Administrator\\Desktop\\任务三（一）.xlsx')"
   ]
  },
  {
   "cell_type": "markdown",
   "metadata": {},
   "source": [
    "## 二、\t巧克力订单平均时间大于6个月和不销售巧克力的门店对用POI出现次数统计"
   ]
  },
  {
   "cell_type": "markdown",
   "metadata": {},
   "source": [
    "1)\t求不卖巧克力和巧克力平均下单时间超过6个月的门店\n",
    "\n"
   ]
  },
  {
   "cell_type": "code",
   "execution_count": null,
   "metadata": {},
   "outputs": [],
   "source": [
    "# 卖Chocolate的'store_code'\n",
    "Chocolate_storeid=set(df1.loc[df1['ProductCategory']=='Chocolate','store_code'])\n",
    "Chocolate_storeid=list(Chocolate_storeid)\n",
    "# 不卖Chocolate的'store_code'\n",
    "all_storeid = list(df1['store_code'])\n",
    "NoChocolate_storeid=list(set(all_storeid)-set(Chocolate_storeid))\n",
    "\n",
    "# 把Chocolate的那部分分成下单周期小于6个月和下达周期大于6个月两类\n",
    "Cstore_id_da6 = [] # 用来储存买Chocolate的那部分下单周期大于6个月的'store_code'\n",
    "Cstore_id_xiao6 = [] # 用来储存买Chocolate的那部分下单周期小于等于6个月的'store_code'\n",
    "for i in range(len(Chocolate_storeid)):\n",
    "    demo0 = df1.loc[df1['store_code']==Chocolate_storeid[i]]\n",
    "    # 这些门店可能同时买三种产品，拿出卖Chocolate的记录\n",
    "    demo0_1 = demo0.loc[demo0['ProductCategory']=='Chocolate']\n",
    "    # 选出订单时间\n",
    "    demo1 = demo0_1['order_date']\n",
    "    demo1 = demo1.sort_values()# 时间排序\n",
    "    # 时间提取，不要小时。。。\n",
    "    aa=demo1.map(lambda x: x.strftime('%Y-%m-%d'))\n",
    "    # 将字符串转变为时间\n",
    "    demo1=pd.to_datetime(aa)\n",
    "    demo1_index = list(demo1.index)\n",
    "\n",
    "    day=(demo1[demo1_index[-1]]-demo1[demo1_index[0]]).days\n",
    "    \n",
    "    #计算订单个数(将订单时间相等的订单当做一个订单)\n",
    "    order_sum=list(set(list(demo1)))\n",
    "    order_sum=len(order_sum)\n",
    "    #interval = day/(order_sum-1)，要提前判断下分母是否等于0\n",
    "    if order_sum-1==0:\n",
    "        Cstore_id_da6.append(Chocolate_storeid[i])\n",
    "    else:\n",
    "        interval = day/(order_sum-1)\n",
    "        if interval>180:\n",
    "            Cstore_id_da6.append(Chocolate_storeid[i])\n",
    "        else:\n",
    "            Cstore_id_xiao6.append(Chocolate_storeid[i]) \n",
    "             \n",
    "# NoChocolate_storeid 与 Cstore_id_da6的并集\n",
    "No_da6_id = list(set(NoChocolate_storeid)|set(Cstore_id_da6))"
   ]
  },
  {
   "cell_type": "markdown",
   "metadata": {},
   "source": [
    "2)\t求出（1）中门店对应的POI；\n"
   ]
  },
  {
   "cell_type": "code",
   "execution_count": null,
   "metadata": {},
   "outputs": [],
   "source": [
    "# No_da6_id 对应的POI\n",
    "No_da6_id_POI=df_POI[df_POI['storecode'].isin(No_da6_id)]"
   ]
  },
  {
   "cell_type": "markdown",
   "metadata": {},
   "source": [
    "3)\t统计（2）中每个POI出现的次数（去充电宝），并按出现次数排序，形成list2\n"
   ]
  },
  {
   "cell_type": "code",
   "execution_count": null,
   "metadata": {},
   "outputs": [],
   "source": [
    "# 去充电宝\n",
    "No_da6_id_POI=No_da6_id_POI.drop(No_da6_id_POI[No_da6_id_POI['s_cat_value']=='充电宝'].index)\n",
    "# 在No_da6_id_POI的基础上，求POI出现次数\n",
    "k1_1 = No_da6_id_POI\n",
    "k1_1['nums']=0\n",
    "uu_1=list(k1_1.groupby(['s_cat_id']).count()['nums'].index) # 表示s_cat_id\n",
    "uu_2=list(k1_1.groupby(['s_cat_id']).count()['nums'].values) # 表示出现次数\n",
    "uu_3=[]\n",
    "uu_4=[]\n",
    "uu_5=[]\n",
    "uu_6=[]\n",
    "uu_7=[]\n",
    "# 'b_cat_id','b_cat_value','m_cat_id','m_cat_value'\n",
    "for i in range(len(uu_1)):\n",
    "    f1=list(k1_1.loc[k1_1['s_cat_id']==uu_1[i],'b_cat_id'])[0]\n",
    "    f2=list(k1_1.loc[k1_1['s_cat_id']==uu_1[i],'b_cat_value'])[0]\n",
    "    f3=list(k1_1.loc[k1_1['s_cat_id']==uu_1[i],'m_cat_id'])[0]\n",
    "    f4=list(k1_1.loc[k1_1['s_cat_id']==uu_1[i],'m_cat_value'])[0]\n",
    "    f5=list(k1_1.loc[k1_1['s_cat_id']==uu_1[i],'s_cat_value'])[0]\n",
    "    uu_3.append(f1)\n",
    "    uu_4.append(f2)\n",
    "    uu_5.append(f3)\n",
    "    uu_6.append(f4)\n",
    "    uu_7.append(f5)\n",
    "\n",
    "data3={\n",
    "    'b_cat_id':uu_3,\n",
    "    'b_cat_value':uu_4,\n",
    "    'm_cat_id':uu_5,\n",
    "    'm_cat_value':uu_6,\n",
    "    's_cat_id':uu_1,\n",
    "    's_cat_value':uu_7,\n",
    "    '出现次数':uu_2\n",
    "    \n",
    "}\n",
    "k1_2=pd.DataFrame(data3)\n",
    "# 降序\n",
    "k1_3=k1_2.sort_values(by='出现次数',ascending=False)"
   ]
  },
  {
   "cell_type": "markdown",
   "metadata": {},
   "source": [
    "4)\t选取出现次数的前20组成list2-1；"
   ]
  },
  {
   "cell_type": "code",
   "execution_count": null,
   "metadata": {},
   "outputs": [],
   "source": [
    "k1_4=k1_3.head(20)\n",
    "k1_4.to_excel(r'C:\\Users\\Administrator\\Desktop\\任务三（二）.xlsx')"
   ]
  },
  {
   "cell_type": "markdown",
   "metadata": {},
   "source": [
    "## 三、\t分析对比"
   ]
  },
  {
   "cell_type": "markdown",
   "metadata": {},
   "source": [
    "1)\t求list1-1 减去（list1-1和list2-1 的交集），其实就是求list1-1与list2-1的差集"
   ]
  },
  {
   "cell_type": "code",
   "execution_count": null,
   "metadata": {},
   "outputs": [],
   "source": [
    "# list1-1(k5_5)\n",
    "# list2-1(k1_4)\n",
    "b1=set(k5_5['s_cat_id'])\n",
    "b2=set(k1_4['s_cat_id'])\n",
    "b12 = list(set(b1)-set(b2))\n",
    "d13_df = k5_5[k5_5['s_cat_id'].isin(b12)]\n",
    "d13_df.to_excel(r'C:\\Users\\Administrator\\任务三（三）.xlsx')"
   ]
  }
 ],
 "metadata": {
  "kernelspec": {
   "display_name": "Python 3",
   "language": "python",
   "name": "python3"
  },
  "language_info": {
   "codemirror_mode": {
    "name": "ipython",
    "version": 3
   },
   "file_extension": ".py",
   "mimetype": "text/x-python",
   "name": "python",
   "nbconvert_exporter": "python",
   "pygments_lexer": "ipython3",
   "version": "3.7.6"
  }
 },
 "nbformat": 4,
 "nbformat_minor": 4
}
