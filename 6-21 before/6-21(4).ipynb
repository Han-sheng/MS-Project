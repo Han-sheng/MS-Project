{
 "cells": [
  {
   "cell_type": "markdown",
   "metadata": {},
   "source": [
    "# 任务四"
   ]
  },
  {
   "cell_type": "code",
   "execution_count": null,
   "metadata": {},
   "outputs": [],
   "source": [
    "# 导入数据\n",
    "import pandas as pd\n",
    "df1 = pd.read_excel(r'D:\\研究生资料\\玛氏数据\\5-22\\chengdu_521.xlsx')\n",
    "df_POI = pd.read_excel(r'D:\\研究生资料\\玛氏数据\\chengdu_poi_category.xlsx')"
   ]
  },
  {
   "cell_type": "markdown",
   "metadata": {},
   "source": [
    "## 一、\t巧克力/口香糖/糖果平均下单时间大于6个月门店对应的POI销量"
   ]
  },
  {
   "cell_type": "markdown",
   "metadata": {},
   "source": [
    "1)\t求巧克力平均下单时间大于6个月的门店；\n"
   ]
  },
  {
   "cell_type": "code",
   "execution_count": null,
   "metadata": {},
   "outputs": [],
   "source": [
    "# 卖Chocolate的'store_code'\n",
    "Chocolate_storeid=set(df1.loc[df1['ProductCategory']=='Chocolate','store_code'])\n",
    "Chocolate_storeid=list(Chocolate_storeid)\n",
    "\n",
    "# 把Chocolate的那部分分成下单周期小于6个月和下达周期大于6个月两类\n",
    "Cstore_id_da6 = [] # 用来储存买Chocolate的那部分下单周期大于6个月的'store_code'\n",
    "Cstore_id_xiao6 = [] # 用来储存买Chocolate的那部分下单周期小于等于6个月的'store_code'\n",
    "for i in range(len(Chocolate_storeid)):\n",
    "    demo0 = df1.loc[df1['store_code']==Chocolate_storeid[i]]\n",
    "    # 这些门店可能同时买三种产品，拿出卖Chocolate的记录\n",
    "    demo0_1 = demo0.loc[demo0['ProductCategory']=='Chocolate']\n",
    "    # 选出订单时间\n",
    "    demo1 = demo0_1['order_date']\n",
    "    demo1 = demo1.sort_values()# 时间排序\n",
    "    # 时间提取，不要小时。。。\n",
    "    aa=demo1.map(lambda x: x.strftime('%Y-%m-%d'))\n",
    "    # 将字符串转变为时间\n",
    "    demo1=pd.to_datetime(aa)\n",
    "    demo1_index = list(demo1.index)\n",
    "\n",
    "    day=(demo1[demo1_index[-1]]-demo1[demo1_index[0]]).days\n",
    "    \n",
    "    #计算订单个数(将订单时间相等的订单当做一个订单)\n",
    "    order_sum=list(set(list(demo1)))\n",
    "    order_sum=len(order_sum)\n",
    "    #interval = day/(order_sum-1)，要提前判断下分母是否等于0\n",
    "    if order_sum-1==0:\n",
    "        Cstore_id_da6.append(Chocolate_storeid[i])\n",
    "    else:\n",
    "        interval = day/(order_sum-1)\n",
    "        if interval>180:\n",
    "            Cstore_id_da6.append(Chocolate_storeid[i])\n",
    "        else:\n",
    "            Cstore_id_xiao6.append(Chocolate_storeid[i]) "
   ]
  },
  {
   "cell_type": "markdown",
   "metadata": {},
   "source": [
    "2)\t求出（1）中每个门店对应的POI，去重、去充电宝\n",
    "\n"
   ]
  },
  {
   "cell_type": "code",
   "execution_count": null,
   "metadata": {},
   "outputs": [],
   "source": [
    "# Cstore_id_da6对应的poi\n",
    "Cstore_id_da6_POI=df_POI[df_POI['storecode'].isin(Cstore_id_da6)]\n",
    "# 去充电宝\n",
    "Cstore_id_da6_POI=Cstore_id_da6_POI.drop(Cstore_id_da6_POI[Cstore_id_da6_POI['s_cat_value']=='充电宝'].index)\n",
    "# 对每个门店的poi去重（相同POI留下距离近的那个POI）\n",
    "Cstore_id_da6_POI.sort_values(['storecode','s_cat_id','distance'],ascending=[1,0,1],inplace=True)\n",
    "k1_1 = Cstore_id_da6_POI.groupby(['storecode','s_cat_id']).head(1)"
   ]
  },
  {
   "cell_type": "markdown",
   "metadata": {},
   "source": [
    "3)\t求出（2）中每个门店巧克力的销量（case-ordered）\n"
   ]
  },
  {
   "cell_type": "code",
   "execution_count": null,
   "metadata": {},
   "outputs": [],
   "source": [
    "# 在k1_1里面筛选出门店信息；\n",
    "storeid=set(k1_1['storecode'])\n",
    "storeid=list(storeid)\n",
    "# 在表df1中筛选出storeid卖巧克力的门店\n",
    "demo1=df1.loc[df1['store_code'].isin(storeid)]\n",
    "demo2=demo1.loc[demo1['ProductCategory']=='Chocolate']\n",
    "storeid2=list(set(list(demo2['store_code'])))\n",
    "# 门店巧克力销售加总\n",
    "cho_sum=[] \n",
    "for i in range(len(storeid2)):\n",
    "    demo3 = df1.loc[df1['store_code']==storeid2[i]]\n",
    "    sum_1 = demo3.loc[demo3['ProductCategory']=='Chocolate','case_ordered'].sum()\n",
    "    cho_sum.append(sum_1)"
   ]
  },
  {
   "cell_type": "markdown",
   "metadata": {},
   "source": [
    "4)\t将（3）中的每个门店销量赋值到3中每个门店对应的POI上\n"
   ]
  },
  {
   "cell_type": "code",
   "execution_count": null,
   "metadata": {},
   "outputs": [],
   "source": [
    "# k1_1赋上销量信息\n",
    "# 构建门店编号及其销量信息的表\n",
    "data3={\n",
    "    'storeid2':storeid2,\n",
    "    'cho_sum':cho_sum\n",
    "}\n",
    "data3=pd.DataFrame(data3)\n",
    "data3.sort_values(by='storeid2',inplace=True)\n",
    "\n",
    "k1_1.sort_values(by='storecode',inplace=True)\n",
    "\n",
    "sum_2=list(data3['cho_sum'])\n",
    "s_id =list(data3['storeid2'])\n",
    "\n",
    "sum_3 =[]\n",
    "for i in range(len(s_id)):\n",
    "    cc=len(k1_1.loc[k1_1['storecode']==s_id[i]])\n",
    "    for j in range(cc):\n",
    "        sum_3.append(sum_2[i])\n",
    "\n",
    "\n",
    "\n",
    "k1_1['总销量']=sum_3\n",
    "\n",
    "fff=k1_1[['b_cat_id','b_cat_value','m_cat_id','m_cat_value','s_cat_id','s_cat_value','总销量']]"
   ]
  },
  {
   "cell_type": "markdown",
   "metadata": {},
   "source": [
    "5)\t求每个POI的销量累计值，按照销量排序；"
   ]
  },
  {
   "cell_type": "code",
   "execution_count": null,
   "metadata": {},
   "outputs": [],
   "source": [
    "k5_4 = fff.groupby(['s_cat_id','s_cat_value'])['总销量'].sum()\n",
    "k5_4 = k5_4.reset_index()\n",
    "k5_4.sort_values(['总销量'],ascending=[0],inplace=True)\n",
    "tt= list(k5_4['s_cat_id'])\n",
    "r1=[]\n",
    "r2=[]\n",
    "r3=[]\n",
    "r4=[]\n",
    "for i in range(len(tt)):\n",
    "    r1.append(list(set(list(fff.loc[fff['s_cat_id']==tt[i],'b_cat_id'])))[0])\n",
    "    r2.append(list(set(list(fff.loc[fff['s_cat_id']==tt[i],'b_cat_value'])))[0])\n",
    "    r3.append(list(set(list(fff.loc[fff['s_cat_id']==tt[i],'m_cat_id'])))[0])\n",
    "    r4.append(list(set(list(fff.loc[fff['s_cat_id']==tt[i],'m_cat_value'])))[0])\n",
    "k5_4['b_cat_id']=r1\n",
    "k5_4['b_cat_value']=r2\n",
    "k5_4['m_cat_id']=r3\n",
    "k5_4['m_cat_value']=r4\n",
    "\n",
    "k5_4=k5_4[['b_cat_id','b_cat_value','m_cat_id','m_cat_value','s_cat_id','s_cat_value','总销量']]\n",
    "\n",
    "k5_4.to_excel(r'C:\\Users\\Administrator\\Desktop\\任务四（一）.xlsx')"
   ]
  }
 ],
 "metadata": {
  "kernelspec": {
   "display_name": "Python 3",
   "language": "python",
   "name": "python3"
  },
  "language_info": {
   "codemirror_mode": {
    "name": "ipython",
    "version": 3
   },
   "file_extension": ".py",
   "mimetype": "text/x-python",
   "name": "python",
   "nbconvert_exporter": "python",
   "pygments_lexer": "ipython3",
   "version": "3.7.6"
  }
 },
 "nbformat": 4,
 "nbformat_minor": 4
}
