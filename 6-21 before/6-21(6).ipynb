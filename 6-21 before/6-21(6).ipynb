{
 "cells": [
  {
   "cell_type": "markdown",
   "metadata": {},
   "source": [
    "# 任务六"
   ]
  },
  {
   "cell_type": "code",
   "execution_count": null,
   "metadata": {},
   "outputs": [],
   "source": [
    "# 导入数据\n",
    "import pandas as pd\n",
    "df1 = pd.read_excel(r'D:\\研究生资料\\玛氏数据\\5-22\\chengdu_521.xlsx')\n",
    "df_POI = pd.read_excel(r'D:\\研究生资料\\玛氏数据\\chengdu_poi_category.xlsx')"
   ]
  },
  {
   "cell_type": "markdown",
   "metadata": {},
   "source": [
    "## 一、有卖巧克力（平均订单时间<3个月）并且卖口香糖（平均下单时间>6个月）的门店对应前5个POI 出现次数"
   ]
  },
  {
   "cell_type": "markdown",
   "metadata": {},
   "source": [
    "1)\t求出卖巧克力的门店"
   ]
  },
  {
   "cell_type": "code",
   "execution_count": null,
   "metadata": {},
   "outputs": [],
   "source": [
    "# 卖Chocolate的'store_code'\n",
    "Chocolate_storeid=set(df1.loc[df1['ProductCategory']=='Chocolate','store_code'])\n",
    "Chocolate_storeid=list(Chocolate_storeid)"
   ]
  },
  {
   "cell_type": "markdown",
   "metadata": {},
   "source": [
    "2) 求出巧克力平均下单时间小于3个月的门店"
   ]
  },
  {
   "cell_type": "code",
   "execution_count": null,
   "metadata": {},
   "outputs": [],
   "source": [
    "# 把Chocolate的那部分分成下单周期小于3个月和下达周期大于3个月两类\n",
    "Cstore_id_da3 = [] # 用来储存买Chocolate的那部分下单周期大于3个月的'store_code'\n",
    "Cstore_id_xiao3 = [] # 用来储存买Chocolate的那部分下单周期小于等于3个月的'store_code'\n",
    "for i in range(len(Chocolate_storeid)):\n",
    "    demo0 = df1.loc[df1['store_code']==Chocolate_storeid[i]]\n",
    "    # 这些门店可能同时买三种产品，拿出卖Chocolate的记录\n",
    "    demo0_1 = demo0.loc[demo0['ProductCategory']=='Chocolate']\n",
    "    # 选出订单时间\n",
    "    demo1 = demo0_1['order_date']\n",
    "    demo1 = demo1.sort_values()# 时间排序\n",
    "    # 时间提取，不要小时。。。\n",
    "    aa=demo1.map(lambda x: x.strftime('%Y-%m-%d'))\n",
    "    # 将字符串转变为时间\n",
    "    demo1=pd.to_datetime(aa)\n",
    "    demo1_index = list(demo1.index)\n",
    "\n",
    "    day=(demo1[demo1_index[-1]]-demo1[demo1_index[0]]).days\n",
    "    \n",
    "    #计算订单个数(将订单时间相等的订单当做一个订单)\n",
    "    order_sum=list(set(list(demo1)))\n",
    "    order_sum=len(order_sum)\n",
    "    #interval = day/(order_sum-1)，要提前判断下分母是否等于0\n",
    "    if order_sum-1==0:\n",
    "        Cstore_id_da3.append(Chocolate_storeid[i])\n",
    "    else:\n",
    "        interval = day/(order_sum-1)\n",
    "        if interval>90:\n",
    "            Cstore_id_da3.append(Chocolate_storeid[i])\n",
    "        else:\n",
    "            Cstore_id_xiao3.append(Chocolate_storeid[i]) "
   ]
  },
  {
   "cell_type": "markdown",
   "metadata": {},
   "source": [
    "3) 求出（2）中门店中卖口香糖的门店"
   ]
  },
  {
   "cell_type": "code",
   "execution_count": null,
   "metadata": {},
   "outputs": [],
   "source": [
    "# 在Cstore_id_xiao3里面筛选出卖口香糖的门店；\n",
    "demo1=df1.loc[df1['store_code'].isin(Cstore_id_xiao3)]\n",
    "demo2=demo1.loc[demo1['ProductCategory']=='Chewing/Bubble Gum']\n",
    "Chox3_Che=list(set(list(demo2['store_code'])))"
   ]
  },
  {
   "cell_type": "markdown",
   "metadata": {},
   "source": [
    "4) 求出（3）中口香糖平均下单时间大于6个月的门店；"
   ]
  },
  {
   "cell_type": "code",
   "execution_count": null,
   "metadata": {},
   "outputs": [],
   "source": [
    "# 将Chox3_Che划分为口香糖平均下单时间>6个月\n",
    "CC_da6=[]\n",
    "CC_xiao6=[]\n",
    "for i in range(len(Chox3_Che)):\n",
    "    \n",
    "    demo0 = df1.loc[df1['store_code']==Chox3_Che[i]]\n",
    "    demo0_1 = demo0.loc[demo0['ProductCategory']=='Chewing/Bubble Gum']\n",
    "    # 选出订单时间\n",
    "    demo1 = demo0_1['order_date']\n",
    "    demo1 = demo1.sort_values()# 时间排序\n",
    "    # 时间提取，不要小时。。。\n",
    "    aa=demo1.map(lambda x: x.strftime('%Y-%m-%d'))\n",
    "    # 将字符串转变为时间\n",
    "    demo1=pd.to_datetime(aa)\n",
    "    demo1_index = list(demo1.index)\n",
    "\n",
    "    day=(demo1[demo1_index[-1]]-demo1[demo1_index[0]]).days\n",
    "    print('day',day)\n",
    "    #计算订单个数\n",
    "    order_sum=list(set(list(demo1)))\n",
    "    order_sum=len(order_sum)\n",
    "    print('order_sum',order_sum)\n",
    "    \n",
    "    #interval = day/(order_sum-1)，要提前判断下分母是否等于0\n",
    "    if order_sum-1==0:\n",
    "        CC_da6.append(Chox3_Che[i])\n",
    "    else:\n",
    "        interval = day/(order_sum-1)\n",
    "        if interval>180:\n",
    "            CC_da6.append(Chox3_Che[i])\n",
    "        else:\n",
    "            CC_xiao6.append(Chox3_Che[i]) "
   ]
  },
  {
   "cell_type": "markdown",
   "metadata": {},
   "source": [
    "5) 求出（4）中门店对应的POI，去重、去充电宝，按照距离有小到大保留前五个POI；"
   ]
  },
  {
   "cell_type": "code",
   "execution_count": null,
   "metadata": {},
   "outputs": [],
   "source": [
    "# CC_da6对应的poi\n",
    "CC_da6_POI=df_POI[df_POI['storecode'].isin(CC_da6)]\n",
    "# 去充电宝\n",
    "CC_da6_POI=CC_da6_POI.drop(CC_da6_POI[CC_da6_POI['s_cat_value']=='充电宝'].index)\n",
    "# 对每个门店的poi去重（相同POI留下距离近的那个POI）\n",
    "CC_da6_POI.sort_values(['storecode','s_cat_id','distance'],ascending=[1,0,1],inplace=True)\n",
    "k1_1 = CC_da6_POI.groupby(['storecode','s_cat_id']).head(5)"
   ]
  },
  {
   "cell_type": "markdown",
   "metadata": {},
   "source": [
    "6) 求出（5）中每个POI的出现次数"
   ]
  },
  {
   "cell_type": "code",
   "execution_count": null,
   "metadata": {},
   "outputs": [],
   "source": [
    "# 在k1_1的基础上，求POI出现次数\n",
    "k1_1['nums']=0\n",
    "uu_1=list(k1_1.groupby(['s_cat_id']).count()['nums'].index) # 表示s_cat_id\n",
    "uu_2=list(k1_1.groupby(['s_cat_id']).count()['nums'].values) # 表示出现次数\n",
    "uu_3=[]\n",
    "uu_4=[]\n",
    "uu_5=[]\n",
    "uu_6=[]\n",
    "uu_7=[]\n",
    "# 'b_cat_id','b_cat_value','m_cat_id','m_cat_value'\n",
    "for i in range(len(uu_1)):\n",
    "    f1=list(k1_1.loc[k1_1['s_cat_id']==uu_1[i],'b_cat_id'])[0]\n",
    "    f2=list(k1_1.loc[k1_1['s_cat_id']==uu_1[i],'b_cat_value'])[0]\n",
    "    f3=list(k1_1.loc[k1_1['s_cat_id']==uu_1[i],'m_cat_id'])[0]\n",
    "    f4=list(k1_1.loc[k1_1['s_cat_id']==uu_1[i],'m_cat_value'])[0]\n",
    "    f5=list(k1_1.loc[k1_1['s_cat_id']==uu_1[i],'s_cat_value'])[0]\n",
    "    uu_3.append(f1)\n",
    "    uu_4.append(f2)\n",
    "    uu_5.append(f3)\n",
    "    uu_6.append(f4)\n",
    "    uu_7.append(f5)\n",
    "\n",
    "data3={\n",
    "    'b_cat_id':uu_3,\n",
    "    'b_cat_value':uu_4,\n",
    "    'm_cat_id':uu_5,\n",
    "    'm_cat_value':uu_6,\n",
    "    's_cat_id':uu_1,\n",
    "    's_cat_value':uu_7,\n",
    "    '出现次数':uu_2\n",
    "    \n",
    "}\n",
    "k1_2=pd.DataFrame(data3)\n",
    "k1_2.to_excel(r'C:\\Users\\Administrator\\Desktop\\任务六（一）.xlsx')"
   ]
  },
  {
   "cell_type": "markdown",
   "metadata": {},
   "source": [
    "## 二、有卖巧克力（平均订单时间<3个月）并且卖口香糖（平均下单时间>6个月）的门店对应前10个POI 出现次数"
   ]
  },
  {
   "cell_type": "markdown",
   "metadata": {},
   "source": [
    "1)\t求出卖巧克力的门店"
   ]
  },
  {
   "cell_type": "code",
   "execution_count": null,
   "metadata": {},
   "outputs": [],
   "source": [
    "# 卖Chocolate的'store_code'\n",
    "Chocolate_storeid=set(df1.loc[df1['ProductCategory']=='Chocolate','store_code'])\n",
    "Chocolate_storeid=list(Chocolate_storeid)"
   ]
  },
  {
   "cell_type": "markdown",
   "metadata": {},
   "source": [
    "2)\t求出巧克力平均下单时间小于3个月的门店"
   ]
  },
  {
   "cell_type": "code",
   "execution_count": null,
   "metadata": {},
   "outputs": [],
   "source": [
    "# 把Chocolate的那部分分成下单周期小于3个月和下达周期大于3个月两类\n",
    "Cstore_id_da3 = [] # 用来储存买Chocolate的那部分下单周期大于3个月的'store_code'\n",
    "Cstore_id_xiao3 = [] # 用来储存买Chocolate的那部分下单周期小于等于3个月的'store_code'\n",
    "for i in range(len(Chocolate_storeid)):\n",
    "    demo0 = df1.loc[df1['store_code']==Chocolate_storeid[i]]\n",
    "    # 这些门店可能同时买三种产品，拿出卖Chocolate的记录\n",
    "    demo0_1 = demo0.loc[demo0['ProductCategory']=='Chocolate']\n",
    "    # 选出订单时间\n",
    "    demo1 = demo0_1['order_date']\n",
    "    demo1 = demo1.sort_values()# 时间排序\n",
    "    # 时间提取，不要小时。。。\n",
    "    aa=demo1.map(lambda x: x.strftime('%Y-%m-%d'))\n",
    "    # 将字符串转变为时间\n",
    "    demo1=pd.to_datetime(aa)\n",
    "    demo1_index = list(demo1.index)\n",
    "\n",
    "    day=(demo1[demo1_index[-1]]-demo1[demo1_index[0]]).days\n",
    "    \n",
    "    #计算订单个数(将订单时间相等的订单当做一个订单)\n",
    "    order_sum=list(set(list(demo1)))\n",
    "    order_sum=len(order_sum)\n",
    "    #interval = day/(order_sum-1)，要提前判断下分母是否等于0\n",
    "    if order_sum-1==0:\n",
    "        Cstore_id_da3.append(Chocolate_storeid[i])\n",
    "    else:\n",
    "        interval = day/(order_sum-1)\n",
    "        if interval>90:\n",
    "            Cstore_id_da3.append(Chocolate_storeid[i])\n",
    "        else:\n",
    "            Cstore_id_xiao3.append(Chocolate_storeid[i]) "
   ]
  },
  {
   "cell_type": "markdown",
   "metadata": {},
   "source": [
    "3)\t求出（2）中门店中卖口香糖的门店"
   ]
  },
  {
   "cell_type": "code",
   "execution_count": null,
   "metadata": {},
   "outputs": [],
   "source": [
    "# 在Cstore_id_xiao3里面筛选出卖口香糖的门店；\n",
    "demo1=df1.loc[df1['store_code'].isin(Cstore_id_xiao3)]\n",
    "demo2=demo1.loc[demo1['ProductCategory']=='Chewing/Bubble Gum']\n",
    "Chox3_Che=list(set(list(demo2['store_code'])))"
   ]
  },
  {
   "cell_type": "markdown",
   "metadata": {},
   "source": [
    "4)\t求出（3）中口香糖平均下单时间大于6个月的门店；"
   ]
  },
  {
   "cell_type": "code",
   "execution_count": null,
   "metadata": {},
   "outputs": [],
   "source": [
    "# 将Chox3_Che划分为口香糖平均下单时间>6个月\n",
    "CC_da6=[]\n",
    "CC_xiao6=[]\n",
    "for i in range(len(Chox3_Che)):\n",
    "    \n",
    "    demo0 = df1.loc[df1['store_code']==Chox3_Che[i]]\n",
    "    demo0_1 = demo0.loc[demo0['ProductCategory']=='Chewing/Bubble Gum']\n",
    "    # 选出订单时间\n",
    "    demo1 = demo0_1['order_date']\n",
    "    demo1 = demo1.sort_values()# 时间排序\n",
    "    # 时间提取，不要小时。。。\n",
    "    aa=demo1.map(lambda x: x.strftime('%Y-%m-%d'))\n",
    "    # 将字符串转变为时间\n",
    "    demo1=pd.to_datetime(aa)\n",
    "    demo1_index = list(demo1.index)\n",
    "\n",
    "    day=(demo1[demo1_index[-1]]-demo1[demo1_index[0]]).days\n",
    "    print('day',day)\n",
    "    #计算订单个数\n",
    "    order_sum=list(set(list(demo1)))\n",
    "    order_sum=len(order_sum)\n",
    "    print('order_sum',order_sum)\n",
    "    \n",
    "    #interval = day/(order_sum-1)，要提前判断下分母是否等于0\n",
    "    if order_sum-1==0:\n",
    "        CC_da6.append(Chox3_Che[i])\n",
    "    else:\n",
    "        interval = day/(order_sum-1)\n",
    "        if interval>180:\n",
    "            CC_da6.append(Chox3_Che[i])\n",
    "        else:\n",
    "            CC_xiao6.append(Chox3_Che[i]) "
   ]
  },
  {
   "cell_type": "markdown",
   "metadata": {},
   "source": [
    "5)\t求出（4）中门店对应的POI，去重、去充电宝，按照距离有小到大保留前十个POI；"
   ]
  },
  {
   "cell_type": "code",
   "execution_count": null,
   "metadata": {},
   "outputs": [],
   "source": [
    "# CC_da6对应的poi\n",
    "CC_da6_POI=df_POI[df_POI['storecode'].isin(CC_da6)]\n",
    "# 去充电宝\n",
    "CC_da6_POI=CC_da6_POI.drop(CC_da6_POI[CC_da6_POI['s_cat_value']=='充电宝'].index)\n",
    "# 对每个门店的poi去重（相同POI留下距离近的那个POI）\n",
    "CC_da6_POI.sort_values(['storecode','s_cat_id','distance'],ascending=[1,0,1],inplace=True)\n",
    "k2_1 = CC_da6_POI.groupby(['storecode','s_cat_id']).head(10)"
   ]
  },
  {
   "cell_type": "markdown",
   "metadata": {},
   "source": [
    "6)\t求出（5）中每个POI的出现次数"
   ]
  },
  {
   "cell_type": "code",
   "execution_count": null,
   "metadata": {},
   "outputs": [],
   "source": [
    "# 在k2_1的基础上，求POI出现次数\n",
    "k2_1['nums']=0\n",
    "uu_1=list(k2_1.groupby(['s_cat_id']).count()['nums'].index) # 表示s_cat_id\n",
    "uu_2=list(k2_1.groupby(['s_cat_id']).count()['nums'].values) # 表示出现次数\n",
    "uu_3=[]\n",
    "uu_4=[]\n",
    "uu_5=[]\n",
    "uu_6=[]\n",
    "uu_7=[]\n",
    "# 'b_cat_id','b_cat_value','m_cat_id','m_cat_value'\n",
    "for i in range(len(uu_1)):\n",
    "    f1=list(k2_1.loc[k2_1['s_cat_id']==uu_1[i],'b_cat_id'])[0]\n",
    "    f2=list(k2_1.loc[k2_1['s_cat_id']==uu_1[i],'b_cat_value'])[0]\n",
    "    f3=list(k2_1.loc[k2_1['s_cat_id']==uu_1[i],'m_cat_id'])[0]\n",
    "    f4=list(k2_1.loc[k2_1['s_cat_id']==uu_1[i],'m_cat_value'])[0]\n",
    "    f5=list(k2_1.loc[k2_1['s_cat_id']==uu_1[i],'s_cat_value'])[0]\n",
    "    uu_3.append(f1)\n",
    "    uu_4.append(f2)\n",
    "    uu_5.append(f3)\n",
    "    uu_6.append(f4)\n",
    "    uu_7.append(f5)\n",
    "\n",
    "data3={\n",
    "    'b_cat_id':uu_3,\n",
    "    'b_cat_value':uu_4,\n",
    "    'm_cat_id':uu_5,\n",
    "    'm_cat_value':uu_6,\n",
    "    's_cat_id':uu_1,\n",
    "    's_cat_value':uu_7,\n",
    "    '出现次数':uu_2\n",
    "    \n",
    "}\n",
    "k2_2=pd.DataFrame(data3)\n",
    "k2_2.to_excel(r'C:\\Users\\Administrator\\Desktop\\任务六（二）.xlsx')"
   ]
  },
  {
   "cell_type": "markdown",
   "metadata": {},
   "source": [
    "## 三、有卖巧克力（平均订单时间<3个月）并且卖口香糖（平均下单时间>3个月）的门店对应前5个POI 出现次数"
   ]
  },
  {
   "cell_type": "markdown",
   "metadata": {},
   "source": [
    "1)\t求出卖巧克力的门店"
   ]
  },
  {
   "cell_type": "code",
   "execution_count": null,
   "metadata": {},
   "outputs": [],
   "source": [
    "# 卖Chocolate的'store_code'\n",
    "Chocolate_storeid=set(df1.loc[df1['ProductCategory']=='Chocolate','store_code'])\n",
    "Chocolate_storeid=list(Chocolate_storeid)"
   ]
  },
  {
   "cell_type": "markdown",
   "metadata": {},
   "source": [
    "2)\t求出巧克力平均下单时间小于3个月的门店"
   ]
  },
  {
   "cell_type": "code",
   "execution_count": null,
   "metadata": {},
   "outputs": [],
   "source": [
    "# 把Chocolate的那部分分成下单周期小于3个月和下达周期大于3个月两类\n",
    "Cstore_id_da3 = [] # 用来储存买Chocolate的那部分下单周期大于3个月的'store_code'\n",
    "Cstore_id_xiao3 = [] # 用来储存买Chocolate的那部分下单周期小于等于3个月的'store_code'\n",
    "for i in range(len(Chocolate_storeid)):\n",
    "    demo0 = df1.loc[df1['store_code']==Chocolate_storeid[i]]\n",
    "    # 这些门店可能同时买三种产品，拿出卖Chocolate的记录\n",
    "    demo0_1 = demo0.loc[demo0['ProductCategory']=='Chocolate']\n",
    "    # 选出订单时间\n",
    "    demo1 = demo0_1['order_date']\n",
    "    demo1 = demo1.sort_values()# 时间排序\n",
    "    # 时间提取，不要小时。。。\n",
    "    aa=demo1.map(lambda x: x.strftime('%Y-%m-%d'))\n",
    "    # 将字符串转变为时间\n",
    "    demo1=pd.to_datetime(aa)\n",
    "    demo1_index = list(demo1.index)\n",
    "\n",
    "    day=(demo1[demo1_index[-1]]-demo1[demo1_index[0]]).days\n",
    "    \n",
    "    #计算订单个数(将订单时间相等的订单当做一个订单)\n",
    "    order_sum=list(set(list(demo1)))\n",
    "    order_sum=len(order_sum)\n",
    "    #interval = day/(order_sum-1)，要提前判断下分母是否等于0\n",
    "    if order_sum-1==0:\n",
    "        Cstore_id_da3.append(Chocolate_storeid[i])\n",
    "    else:\n",
    "        interval = day/(order_sum-1)\n",
    "        if interval>90:\n",
    "            Cstore_id_da3.append(Chocolate_storeid[i])\n",
    "        else:\n",
    "            Cstore_id_xiao3.append(Chocolate_storeid[i]) "
   ]
  },
  {
   "cell_type": "markdown",
   "metadata": {},
   "source": [
    "3)\t求出（2）中门店中卖口香糖的门店"
   ]
  },
  {
   "cell_type": "code",
   "execution_count": null,
   "metadata": {},
   "outputs": [],
   "source": [
    "# 在Cstore_id_xiao3里面筛选出卖口香糖的门店；\n",
    "demo1=df1.loc[df1['store_code'].isin(Cstore_id_xiao3)]\n",
    "demo2=demo1.loc[demo1['ProductCategory']=='Chewing/Bubble Gum']\n",
    "Chox3_Che=list(set(list(demo2['store_code'])))"
   ]
  },
  {
   "cell_type": "markdown",
   "metadata": {},
   "source": [
    "4)\t求出（3）中口香糖平均下单时间大于3个月的门店；"
   ]
  },
  {
   "cell_type": "code",
   "execution_count": null,
   "metadata": {},
   "outputs": [],
   "source": [
    "# 将Chox3_Che划分为口香糖平均下单时间>3个月\n",
    "CC_da3=[]\n",
    "CC_xiao3=[]\n",
    "for i in range(len(Chox3_Che)):\n",
    "    \n",
    "    demo0 = df1.loc[df1['store_code']==Chox3_Che[i]]\n",
    "    demo0_1 = demo0.loc[demo0['ProductCategory']=='Chewing/Bubble Gum']\n",
    "    # 选出订单时间\n",
    "    demo1 = demo0_1['order_date']\n",
    "    demo1 = demo1.sort_values()# 时间排序\n",
    "    # 时间提取，不要小时。。。\n",
    "    aa=demo1.map(lambda x: x.strftime('%Y-%m-%d'))\n",
    "    # 将字符串转变为时间\n",
    "    demo1=pd.to_datetime(aa)\n",
    "    demo1_index = list(demo1.index)\n",
    "\n",
    "    day=(demo1[demo1_index[-1]]-demo1[demo1_index[0]]).days\n",
    "    print('day',day)\n",
    "    #计算订单个数\n",
    "    order_sum=list(set(list(demo1)))\n",
    "    order_sum=len(order_sum)\n",
    "    print('order_sum',order_sum)\n",
    "    \n",
    "    #interval = day/(order_sum-1)，要提前判断下分母是否等于0\n",
    "    if order_sum-1==0:\n",
    "        CC_da3.append(Chox3_Che[i])\n",
    "    else:\n",
    "        interval = day/(order_sum-1)\n",
    "        if interval>90:\n",
    "            CC_da3.append(Chox3_Che[i])\n",
    "        else:\n",
    "            CC_xiao3.append(Chox3_Che[i]) "
   ]
  },
  {
   "cell_type": "markdown",
   "metadata": {},
   "source": [
    "5)\t求出（4）中门店对应的POI，去重、去充电宝，按照距离有小到大保留前五个POI；"
   ]
  },
  {
   "cell_type": "code",
   "execution_count": null,
   "metadata": {},
   "outputs": [],
   "source": [
    "# CC_da3对应的poi\n",
    "CC_da3_POI=df_POI[df_POI['storecode'].isin(CC_da3)]\n",
    "# 去充电宝\n",
    "CC_da3_POI=CC_da3_POI.drop(CC_da3_POI[CC_da3_POI['s_cat_value']=='充电宝'].index)\n",
    "# 对每个门店的poi去重（相同POI留下距离近的那个POI）\n",
    "CC_da3_POI.sort_values(['storecode','s_cat_id','distance'],ascending=[1,0,1],inplace=True)\n",
    "k3_1 = CC_da3_POI.groupby(['storecode','s_cat_id']).head(5)"
   ]
  },
  {
   "cell_type": "markdown",
   "metadata": {},
   "source": [
    "6)\t求出（5）中每个POI的出现次数"
   ]
  },
  {
   "cell_type": "code",
   "execution_count": null,
   "metadata": {},
   "outputs": [],
   "source": [
    "# 在k3_1的基础上，求POI出现次数\n",
    "k3_1['nums']=0\n",
    "uu_1=list(k3_1.groupby(['s_cat_id']).count()['nums'].index) # 表示s_cat_id\n",
    "uu_2=list(k3_1.groupby(['s_cat_id']).count()['nums'].values) # 表示出现次数\n",
    "uu_3=[]\n",
    "uu_4=[]\n",
    "uu_5=[]\n",
    "uu_6=[]\n",
    "uu_7=[]\n",
    "# 'b_cat_id','b_cat_value','m_cat_id','m_cat_value'\n",
    "for i in range(len(uu_1)):\n",
    "    f1=list(k3_1.loc[k3_1['s_cat_id']==uu_1[i],'b_cat_id'])[0]\n",
    "    f2=list(k3_1.loc[k3_1['s_cat_id']==uu_1[i],'b_cat_value'])[0]\n",
    "    f3=list(k3_1.loc[k3_1['s_cat_id']==uu_1[i],'m_cat_id'])[0]\n",
    "    f4=list(k3_1.loc[k3_1['s_cat_id']==uu_1[i],'m_cat_value'])[0]\n",
    "    f5=list(k3_1.loc[k3_1['s_cat_id']==uu_1[i],'s_cat_value'])[0]\n",
    "    uu_3.append(f1)\n",
    "    uu_4.append(f2)\n",
    "    uu_5.append(f3)\n",
    "    uu_6.append(f4)\n",
    "    uu_7.append(f5)\n",
    "\n",
    "data3={\n",
    "    'b_cat_id':uu_3,\n",
    "    'b_cat_value':uu_4,\n",
    "    'm_cat_id':uu_5,\n",
    "    'm_cat_value':uu_6,\n",
    "    's_cat_id':uu_1,\n",
    "    's_cat_value':uu_7,\n",
    "    '出现次数':uu_2\n",
    "    \n",
    "}\n",
    "k3_2=pd.DataFrame(data3)\n",
    "k3_2.to_excel(r'C:\\Users\\Administrator\\Desktop\\任务六（三）.xlsx')"
   ]
  },
  {
   "cell_type": "markdown",
   "metadata": {},
   "source": [
    "## 四、有卖巧克力（平均订单时间<3个月）并且卖口香糖（平均下单时间>3个月）的门店对应前10个POI出现次数"
   ]
  },
  {
   "cell_type": "markdown",
   "metadata": {},
   "source": [
    "1)\t求出卖巧克力的门店"
   ]
  },
  {
   "cell_type": "code",
   "execution_count": null,
   "metadata": {},
   "outputs": [],
   "source": [
    "# 卖Chocolate的'store_code'\n",
    "Chocolate_storeid=set(df1.loc[df1['ProductCategory']=='Chocolate','store_code'])\n",
    "Chocolate_storeid=list(Chocolate_storeid)"
   ]
  },
  {
   "cell_type": "markdown",
   "metadata": {},
   "source": [
    "2)\t求出巧克力平均下单时间小于3个月的门店"
   ]
  },
  {
   "cell_type": "code",
   "execution_count": null,
   "metadata": {},
   "outputs": [],
   "source": [
    "# 把Chocolate的那部分分成下单周期小于3个月和下达周期大于3个月两类\n",
    "Cstore_id_da3 = [] # 用来储存买Chocolate的那部分下单周期大于3个月的'store_code'\n",
    "Cstore_id_xiao3 = [] # 用来储存买Chocolate的那部分下单周期小于等于3个月的'store_code'\n",
    "for i in range(len(Chocolate_storeid)):\n",
    "    demo0 = df1.loc[df1['store_code']==Chocolate_storeid[i]]\n",
    "    # 这些门店可能同时买三种产品，拿出卖Chocolate的记录\n",
    "    demo0_1 = demo0.loc[demo0['ProductCategory']=='Chocolate']\n",
    "    # 选出订单时间\n",
    "    demo1 = demo0_1['order_date']\n",
    "    demo1 = demo1.sort_values()# 时间排序\n",
    "    # 时间提取，不要小时。。。\n",
    "    aa=demo1.map(lambda x: x.strftime('%Y-%m-%d'))\n",
    "    # 将字符串转变为时间\n",
    "    demo1=pd.to_datetime(aa)\n",
    "    demo1_index = list(demo1.index)\n",
    "\n",
    "    day=(demo1[demo1_index[-1]]-demo1[demo1_index[0]]).days\n",
    "    \n",
    "    #计算订单个数(将订单时间相等的订单当做一个订单)\n",
    "    order_sum=list(set(list(demo1)))\n",
    "    order_sum=len(order_sum)\n",
    "    #interval = day/(order_sum-1)，要提前判断下分母是否等于0\n",
    "    if order_sum-1==0:\n",
    "        Cstore_id_da3.append(Chocolate_storeid[i])\n",
    "    else:\n",
    "        interval = day/(order_sum-1)\n",
    "        if interval>90:\n",
    "            Cstore_id_da3.append(Chocolate_storeid[i])\n",
    "        else:\n",
    "            Cstore_id_xiao3.append(Chocolate_storeid[i]) "
   ]
  },
  {
   "cell_type": "markdown",
   "metadata": {},
   "source": [
    "3)\t求出（2）中门店中卖口香糖的门店"
   ]
  },
  {
   "cell_type": "code",
   "execution_count": null,
   "metadata": {},
   "outputs": [],
   "source": [
    "# 在Cstore_id_xiao3里面筛选出卖口香糖的门店；\n",
    "demo1=df1.loc[df1['store_code'].isin(Cstore_id_xiao3)]\n",
    "demo2=demo1.loc[demo1['ProductCategory']=='Chewing/Bubble Gum']\n",
    "Chox3_Che=list(set(list(demo2['store_code'])))"
   ]
  },
  {
   "cell_type": "markdown",
   "metadata": {},
   "source": [
    "4)\t求出（3）中口香糖平均下单时间大于3个月的门店；"
   ]
  },
  {
   "cell_type": "code",
   "execution_count": null,
   "metadata": {},
   "outputs": [],
   "source": [
    "# 将Chox3_Che划分为口香糖平均下单时间>3个月\n",
    "CC_da3=[]\n",
    "CC_xiao3=[]\n",
    "for i in range(len(Chox3_Che)):\n",
    "    \n",
    "    demo0 = df1.loc[df1['store_code']==Chox3_Che[i]]\n",
    "    demo0_1 = demo0.loc[demo0['ProductCategory']=='Chewing/Bubble Gum']\n",
    "    # 选出订单时间\n",
    "    demo1 = demo0_1['order_date']\n",
    "    demo1 = demo1.sort_values()# 时间排序\n",
    "    # 时间提取，不要小时。。。\n",
    "    aa=demo1.map(lambda x: x.strftime('%Y-%m-%d'))\n",
    "    # 将字符串转变为时间\n",
    "    demo1=pd.to_datetime(aa)\n",
    "    demo1_index = list(demo1.index)\n",
    "\n",
    "    day=(demo1[demo1_index[-1]]-demo1[demo1_index[0]]).days\n",
    "    print('day',day)\n",
    "    #计算订单个数\n",
    "    order_sum=list(set(list(demo1)))\n",
    "    order_sum=len(order_sum)\n",
    "    print('order_sum',order_sum)\n",
    "    \n",
    "    #interval = day/(order_sum-1)，要提前判断下分母是否等于0\n",
    "    if order_sum-1==0:\n",
    "        CC_da3.append(Chox3_Che[i])\n",
    "    else:\n",
    "        interval = day/(order_sum-1)\n",
    "        if interval>90:\n",
    "            CC_da3.append(Chox3_Che[i])\n",
    "        else:\n",
    "            CC_xiao3.append(Chox3_Che[i]) "
   ]
  },
  {
   "cell_type": "markdown",
   "metadata": {},
   "source": [
    "5)\t求出（4）中门店对应的POI，去重、去充电宝，按照距离有小到大保留前十个POI；"
   ]
  },
  {
   "cell_type": "code",
   "execution_count": null,
   "metadata": {},
   "outputs": [],
   "source": [
    "# CC_da3对应的poi\n",
    "CC_da3_POI=df_POI[df_POI['storecode'].isin(CC_da3)]\n",
    "# 去充电宝\n",
    "CC_da3_POI=CC_da3_POI.drop(CC_da3_POI[CC_da3_POI['s_cat_value']=='充电宝'].index)\n",
    "# 对每个门店的poi去重（相同POI留下距离近的那个POI）\n",
    "CC_da3_POI.sort_values(['storecode','s_cat_id','distance'],ascending=[1,0,1],inplace=True)\n",
    "k4_1 = CC_da3_POI.groupby(['storecode','s_cat_id']).head(10)"
   ]
  },
  {
   "cell_type": "markdown",
   "metadata": {},
   "source": [
    "6)\t求出（5）中每个POI的出现次数"
   ]
  },
  {
   "cell_type": "code",
   "execution_count": null,
   "metadata": {},
   "outputs": [],
   "source": [
    "# 在k3_1的基础上，求POI出现次数\n",
    "k4_1['nums']=0\n",
    "uu_1=list(k4_1.groupby(['s_cat_id']).count()['nums'].index) # 表示s_cat_id\n",
    "uu_2=list(k4_1.groupby(['s_cat_id']).count()['nums'].values) # 表示出现次数\n",
    "uu_3=[]\n",
    "uu_4=[]\n",
    "uu_5=[]\n",
    "uu_6=[]\n",
    "uu_7=[]\n",
    "# 'b_cat_id','b_cat_value','m_cat_id','m_cat_value'\n",
    "for i in range(len(uu_1)):\n",
    "    f1=list(k4_1.loc[k4_1['s_cat_id']==uu_1[i],'b_cat_id'])[0]\n",
    "    f2=list(k4_1.loc[k4_1['s_cat_id']==uu_1[i],'b_cat_value'])[0]\n",
    "    f3=list(k4_1.loc[k4_1['s_cat_id']==uu_1[i],'m_cat_id'])[0]\n",
    "    f4=list(k4_1.loc[k4_1['s_cat_id']==uu_1[i],'m_cat_value'])[0]\n",
    "    f5=list(k4_1.loc[k4_1['s_cat_id']==uu_1[i],'s_cat_value'])[0]\n",
    "    uu_3.append(f1)\n",
    "    uu_4.append(f2)\n",
    "    uu_5.append(f3)\n",
    "    uu_6.append(f4)\n",
    "    uu_7.append(f5)\n",
    "\n",
    "data3={\n",
    "    'b_cat_id':uu_3,\n",
    "    'b_cat_value':uu_4,\n",
    "    'm_cat_id':uu_5,\n",
    "    'm_cat_value':uu_6,\n",
    "    's_cat_id':uu_1,\n",
    "    's_cat_value':uu_7,\n",
    "    '出现次数':uu_2\n",
    "    \n",
    "}\n",
    "k4_2=pd.DataFrame(data3)\n",
    "k4_2.to_excel(r'C:\\Users\\Administrator\\Desktop\\任务六（四）.xlsx')"
   ]
  },
  {
   "cell_type": "markdown",
   "metadata": {},
   "source": [
    "## 五、有卖巧克力（平均订单时间<3个月）并且卖口香糖（平均下单时间>6个月）的门店对应前5个POI的巧克力累计销量"
   ]
  },
  {
   "cell_type": "markdown",
   "metadata": {},
   "source": [
    "1)\t求出卖巧克力的门店"
   ]
  },
  {
   "cell_type": "code",
   "execution_count": null,
   "metadata": {},
   "outputs": [],
   "source": [
    "# 卖Chocolate的'store_code'\n",
    "Chocolate_storeid=set(df1.loc[df1['ProductCategory']=='Chocolate','store_code'])\n",
    "Chocolate_storeid=list(Chocolate_storeid)"
   ]
  },
  {
   "cell_type": "markdown",
   "metadata": {},
   "source": [
    "2)\t求出巧克力平均下单时间小于3个月的门店"
   ]
  },
  {
   "cell_type": "code",
   "execution_count": null,
   "metadata": {},
   "outputs": [],
   "source": [
    "# 把Chocolate的那部分分成下单周期小于3个月和下达周期大于3个月两类\n",
    "Cstore_id_da3 = [] # 用来储存买Chocolate的那部分下单周期大于3个月的'store_code'\n",
    "Cstore_id_xiao3 = [] # 用来储存买Chocolate的那部分下单周期小于等于3个月的'store_code'\n",
    "for i in range(len(Chocolate_storeid)):\n",
    "    demo0 = df1.loc[df1['store_code']==Chocolate_storeid[i]]\n",
    "    # 这些门店可能同时买三种产品，拿出卖Chocolate的记录\n",
    "    demo0_1 = demo0.loc[demo0['ProductCategory']=='Chocolate']\n",
    "    # 选出订单时间\n",
    "    demo1 = demo0_1['order_date']\n",
    "    demo1 = demo1.sort_values()# 时间排序\n",
    "    # 时间提取，不要小时。。。\n",
    "    aa=demo1.map(lambda x: x.strftime('%Y-%m-%d'))\n",
    "    # 将字符串转变为时间\n",
    "    demo1=pd.to_datetime(aa)\n",
    "    demo1_index = list(demo1.index)\n",
    "\n",
    "    day=(demo1[demo1_index[-1]]-demo1[demo1_index[0]]).days\n",
    "    \n",
    "    #计算订单个数(将订单时间相等的订单当做一个订单)\n",
    "    order_sum=list(set(list(demo1)))\n",
    "    order_sum=len(order_sum)\n",
    "    #interval = day/(order_sum-1)，要提前判断下分母是否等于0\n",
    "    if order_sum-1==0:\n",
    "        Cstore_id_da3.append(Chocolate_storeid[i])\n",
    "    else:\n",
    "        interval = day/(order_sum-1)\n",
    "        if interval>90:\n",
    "            Cstore_id_da3.append(Chocolate_storeid[i])\n",
    "        else:\n",
    "            Cstore_id_xiao3.append(Chocolate_storeid[i]) "
   ]
  },
  {
   "cell_type": "markdown",
   "metadata": {},
   "source": [
    "3)\t求出（2）中门店中卖口香糖的门店"
   ]
  },
  {
   "cell_type": "code",
   "execution_count": null,
   "metadata": {},
   "outputs": [],
   "source": [
    "# 在Cstore_id_xiao3里面筛选出卖口香糖的门店；\n",
    "demo1=df1.loc[df1['store_code'].isin(Cstore_id_xiao3)]\n",
    "demo2=demo1.loc[demo1['ProductCategory']=='Chewing/Bubble Gum']\n",
    "Chox3_Che=list(set(list(demo2['store_code'])))"
   ]
  },
  {
   "cell_type": "markdown",
   "metadata": {},
   "source": [
    "4)\t求出（3）中口香糖平均下单时间大于6个月的门店；"
   ]
  },
  {
   "cell_type": "code",
   "execution_count": null,
   "metadata": {},
   "outputs": [],
   "source": [
    "# 将Chox3_Che划分为口香糖平均下单时间>6个月\n",
    "CC_da6=[]\n",
    "CC_xiao6=[]\n",
    "for i in range(len(Chox3_Che)):\n",
    "    \n",
    "    demo0 = df1.loc[df1['store_code']==Chox3_Che[i]]\n",
    "    demo0_1 = demo0.loc[demo0['ProductCategory']=='Chewing/Bubble Gum']\n",
    "    # 选出订单时间\n",
    "    demo1 = demo0_1['order_date']\n",
    "    demo1 = demo1.sort_values()# 时间排序\n",
    "    # 时间提取，不要小时。。。\n",
    "    aa=demo1.map(lambda x: x.strftime('%Y-%m-%d'))\n",
    "    # 将字符串转变为时间\n",
    "    demo1=pd.to_datetime(aa)\n",
    "    demo1_index = list(demo1.index)\n",
    "\n",
    "    day=(demo1[demo1_index[-1]]-demo1[demo1_index[0]]).days\n",
    "    print('day',day)\n",
    "    #计算订单个数\n",
    "    order_sum=list(set(list(demo1)))\n",
    "    order_sum=len(order_sum)\n",
    "    print('order_sum',order_sum)\n",
    "    \n",
    "    #interval = day/(order_sum-1)，要提前判断下分母是否等于0\n",
    "    if order_sum-1==0:\n",
    "        CC_da6.append(Chox3_Che[i])\n",
    "    else:\n",
    "        interval = day/(order_sum-1)\n",
    "        if interval>180:\n",
    "            CC_da6.append(Chox3_Che[i])\n",
    "        else:\n",
    "            CC_xiao6.append(Chox3_Che[i]) "
   ]
  },
  {
   "cell_type": "markdown",
   "metadata": {},
   "source": [
    "5)\t求出（4）中门店对应的POI，去重、去充电宝，按照距离有小到大保留前5个POI；"
   ]
  },
  {
   "cell_type": "code",
   "execution_count": null,
   "metadata": {},
   "outputs": [],
   "source": [
    "# CC_da6对应的poi\n",
    "CC_da6_POI=df_POI[df_POI['storecode'].isin(CC_da6)]\n",
    "# 去充电宝\n",
    "CC_da6_POI=CC_da6_POI.drop(CC_da6_POI[CC_da6_POI['s_cat_value']=='充电宝'].index)\n",
    "# 对每个门店的poi去重（相同POI留下距离近的那个POI）\n",
    "CC_da6_POI.sort_values(['storecode','s_cat_id','distance'],ascending=[1,0,1],inplace=True)\n",
    "k5_1 = CC_da6_POI.groupby(['storecode','s_cat_id']).head(5)"
   ]
  },
  {
   "cell_type": "markdown",
   "metadata": {},
   "source": [
    "6)\t求出（3）中每个门店的巧克力销量（case-ordered）"
   ]
  },
  {
   "cell_type": "code",
   "execution_count": null,
   "metadata": {},
   "outputs": [],
   "source": [
    "# 在Chox3_Che里面筛选出卖巧克力的门店；\n",
    "demo1=df1.loc[df1['store_code'].isin(Chox3_Che)]\n",
    "demo2=demo1.loc[demo1['ProductCategory']=='Chocolate']\n",
    "Chox3_Che_Cho=list(set(list(demo2['store_code'])))\n",
    "# 门店巧克力销售加总\n",
    "cho_sum=[] \n",
    "for i in range(len(Chox3_Che_Cho)):\n",
    "    demo3 = df1.loc[df1['store_code']==Chox3_Che_Cho[i]]\n",
    "    sum_1 = demo3.loc[demo3['ProductCategory']=='Chocolate','case_ordered'].sum()\n",
    "    cho_sum.append(sum_1)"
   ]
  },
  {
   "cell_type": "markdown",
   "metadata": {},
   "source": [
    "7)\t将（6）中的每个门店销量赋值到（5）中每个门店对应的POI上；"
   ]
  },
  {
   "cell_type": "code",
   "execution_count": null,
   "metadata": {},
   "outputs": [],
   "source": [
    "# k5_1赋上销量信息\n",
    "# 构建门店编号及其销量信息的表\n",
    "data3={\n",
    "    'Chox3_Che_Cho':Chox3_Che_Cho,\n",
    "    'cho_sum':cho_sum\n",
    "}\n",
    "data3=pd.DataFrame(data3)\n",
    "data3.sort_values(by='Chox3_Che_Cho',inplace=True)\n",
    "\n",
    "k5_1.sort_values(by='storecode',inplace=True)\n",
    "\n",
    "sum_2=list(data3['cho_sum'])\n",
    "s_id =list(data3['Chox3_Che_Cho'])\n",
    "\n",
    "sum_3 =[]\n",
    "for i in range(len(s_id)):\n",
    "    cc=len(k5_1.loc[k5_1['storecode']==s_id[i]])\n",
    "    for j in range(cc):\n",
    "        sum_3.append(sum_2[i])\n",
    "\n",
    "# print(len(sum_3))\n",
    "# print(len(k3_1))\n",
    "\n",
    "k5_1['总销量']=sum_3\n",
    "\n",
    "fff=k5_1[['b_cat_id','b_cat_value','m_cat_id','m_cat_value','s_cat_id','s_cat_value','总销量']]"
   ]
  },
  {
   "cell_type": "markdown",
   "metadata": {},
   "source": [
    "8)\t求每个POI的销量累计值，按照销量由大到小排序；"
   ]
  },
  {
   "cell_type": "code",
   "execution_count": null,
   "metadata": {},
   "outputs": [],
   "source": [
    "k5_4 = fff.groupby(['s_cat_id','s_cat_value'])['总销量'].sum()\n",
    "k5_4 = k5_4.reset_index()\n",
    "k5_4.sort_values(['总销量'],ascending=[0],inplace=True)\n",
    "tt= list(k5_4['s_cat_id'])\n",
    "r1=[]\n",
    "r2=[]\n",
    "r3=[]\n",
    "r4=[]\n",
    "for i in range(len(tt)):\n",
    "    r1.append(list(set(list(fff.loc[fff['s_cat_id']==tt[i],'b_cat_id'])))[0])\n",
    "    r2.append(list(set(list(fff.loc[fff['s_cat_id']==tt[i],'b_cat_value'])))[0])\n",
    "    r3.append(list(set(list(fff.loc[fff['s_cat_id']==tt[i],'m_cat_id'])))[0])\n",
    "    r4.append(list(set(list(fff.loc[fff['s_cat_id']==tt[i],'m_cat_value'])))[0])\n",
    "k5_4['b_cat_id']=r1\n",
    "k5_4['b_cat_value']=r2\n",
    "k5_4['m_cat_id']=r3\n",
    "k5_4['m_cat_value']=r4\n",
    "\n",
    "k5_4=k5_4[['b_cat_id','b_cat_value','m_cat_id','m_cat_value','s_cat_id','s_cat_value','总销量']]\n",
    "\n",
    "k5_4.to_excel(r'C:\\Users\\Administrator\\Desktop\\任务六（五）.xlsx')"
   ]
  },
  {
   "cell_type": "markdown",
   "metadata": {},
   "source": [
    "## 六、有卖巧克力（平均订单时间<3个月）并且卖口香糖（平均下单时间>6个月）的门店对应前10个POI的巧克力累计销量"
   ]
  },
  {
   "cell_type": "markdown",
   "metadata": {},
   "source": [
    "1)\t求出卖巧克力的门店"
   ]
  },
  {
   "cell_type": "code",
   "execution_count": null,
   "metadata": {},
   "outputs": [],
   "source": [
    "# 卖Chocolate的'store_code'\n",
    "Chocolate_storeid=set(df1.loc[df1['ProductCategory']=='Chocolate','store_code'])\n",
    "Chocolate_storeid=list(Chocolate_storeid)"
   ]
  },
  {
   "cell_type": "markdown",
   "metadata": {},
   "source": [
    "2)\t求出巧克力平均下单时间小于3个月的门店"
   ]
  },
  {
   "cell_type": "code",
   "execution_count": null,
   "metadata": {},
   "outputs": [],
   "source": [
    "# 把Chocolate的那部分分成下单周期小于3个月和下达周期大于3个月两类\n",
    "Cstore_id_da3 = [] # 用来储存买Chocolate的那部分下单周期大于3个月的'store_code'\n",
    "Cstore_id_xiao3 = [] # 用来储存买Chocolate的那部分下单周期小于等于3个月的'store_code'\n",
    "for i in range(len(Chocolate_storeid)):\n",
    "    demo0 = df1.loc[df1['store_code']==Chocolate_storeid[i]]\n",
    "    # 这些门店可能同时买三种产品，拿出卖Chocolate的记录\n",
    "    demo0_1 = demo0.loc[demo0['ProductCategory']=='Chocolate']\n",
    "    # 选出订单时间\n",
    "    demo1 = demo0_1['order_date']\n",
    "    demo1 = demo1.sort_values()# 时间排序\n",
    "    # 时间提取，不要小时。。。\n",
    "    aa=demo1.map(lambda x: x.strftime('%Y-%m-%d'))\n",
    "    # 将字符串转变为时间\n",
    "    demo1=pd.to_datetime(aa)\n",
    "    demo1_index = list(demo1.index)\n",
    "\n",
    "    day=(demo1[demo1_index[-1]]-demo1[demo1_index[0]]).days\n",
    "    \n",
    "    #计算订单个数(将订单时间相等的订单当做一个订单)\n",
    "    order_sum=list(set(list(demo1)))\n",
    "    order_sum=len(order_sum)\n",
    "    #interval = day/(order_sum-1)，要提前判断下分母是否等于0\n",
    "    if order_sum-1==0:\n",
    "        Cstore_id_da3.append(Chocolate_storeid[i])\n",
    "    else:\n",
    "        interval = day/(order_sum-1)\n",
    "        if interval>90:\n",
    "            Cstore_id_da3.append(Chocolate_storeid[i])\n",
    "        else:\n",
    "            Cstore_id_xiao3.append(Chocolate_storeid[i]) "
   ]
  },
  {
   "cell_type": "markdown",
   "metadata": {},
   "source": [
    "3)\t求出（2）中门店中卖口香糖的门店"
   ]
  },
  {
   "cell_type": "code",
   "execution_count": null,
   "metadata": {},
   "outputs": [],
   "source": [
    "# 在Cstore_id_xiao3里面筛选出卖口香糖的门店；\n",
    "demo1=df1.loc[df1['store_code'].isin(Cstore_id_xiao3)]\n",
    "demo2=demo1.loc[demo1['ProductCategory']=='Chewing/Bubble Gum']\n",
    "Chox3_Che=list(set(list(demo2['store_code'])))"
   ]
  },
  {
   "cell_type": "markdown",
   "metadata": {},
   "source": [
    "4)\t求出（3）中口香糖平均下单时间大于6个月的门店；"
   ]
  },
  {
   "cell_type": "code",
   "execution_count": null,
   "metadata": {},
   "outputs": [],
   "source": [
    "# 将Chox3_Che划分为口香糖平均下单时间>6个月\n",
    "CC_da6=[]\n",
    "CC_xiao6=[]\n",
    "for i in range(len(Chox3_Che)):\n",
    "    \n",
    "    demo0 = df1.loc[df1['store_code']==Chox3_Che[i]]\n",
    "    demo0_1 = demo0.loc[demo0['ProductCategory']=='Chewing/Bubble Gum']\n",
    "    # 选出订单时间\n",
    "    demo1 = demo0_1['order_date']\n",
    "    demo1 = demo1.sort_values()# 时间排序\n",
    "    # 时间提取，不要小时。。。\n",
    "    aa=demo1.map(lambda x: x.strftime('%Y-%m-%d'))\n",
    "    # 将字符串转变为时间\n",
    "    demo1=pd.to_datetime(aa)\n",
    "    demo1_index = list(demo1.index)\n",
    "\n",
    "    day=(demo1[demo1_index[-1]]-demo1[demo1_index[0]]).days\n",
    "    print('day',day)\n",
    "    #计算订单个数\n",
    "    order_sum=list(set(list(demo1)))\n",
    "    order_sum=len(order_sum)\n",
    "    print('order_sum',order_sum)\n",
    "    \n",
    "    #interval = day/(order_sum-1)，要提前判断下分母是否等于0\n",
    "    if order_sum-1==0:\n",
    "        CC_da6.append(Chox3_Che[i])\n",
    "    else:\n",
    "        interval = day/(order_sum-1)\n",
    "        if interval>180:\n",
    "            CC_da6.append(Chox3_Che[i])\n",
    "        else:\n",
    "            CC_xiao6.append(Chox3_Che[i]) "
   ]
  },
  {
   "cell_type": "markdown",
   "metadata": {},
   "source": [
    "5)\t求出（4）中门店对应的POI，去重、去充电宝，按照距离有小到大保留前十个POI；"
   ]
  },
  {
   "cell_type": "code",
   "execution_count": null,
   "metadata": {},
   "outputs": [],
   "source": [
    "# CC_da6对应的poi\n",
    "CC_da6_POI=df_POI[df_POI['storecode'].isin(CC_da6)]\n",
    "# 去充电宝\n",
    "CC_da6_POI=CC_da6_POI.drop(CC_da6_POI[CC_da6_POI['s_cat_value']=='充电宝'].index)\n",
    "# 对每个门店的poi去重（相同POI留下距离近的那个POI）\n",
    "CC_da6_POI.sort_values(['storecode','s_cat_id','distance'],ascending=[1,0,1],inplace=True)\n",
    "k6_1 = CC_da6_POI.groupby(['storecode','s_cat_id']).head(10)"
   ]
  },
  {
   "cell_type": "markdown",
   "metadata": {},
   "source": [
    "6) 求出（3）中每个门店的巧克力销量（case-ordered）"
   ]
  },
  {
   "cell_type": "code",
   "execution_count": null,
   "metadata": {},
   "outputs": [],
   "source": [
    "# 在Chox3_Che里面筛选出卖巧克力的门店；\n",
    "demo1=df1.loc[df1['store_code'].isin(Chox3_Che)]\n",
    "demo2=demo1.loc[demo1['ProductCategory']=='Chocolate']\n",
    "Chox3_Che_Cho=list(set(list(demo2['store_code'])))\n",
    "# 门店巧克力销售加总\n",
    "cho_sum=[] \n",
    "for i in range(len(Chox3_Che_Cho)):\n",
    "    demo3 = df1.loc[df1['store_code']==Chox3_Che_Cho[i]]\n",
    "    sum_1 = demo3.loc[demo3['ProductCategory']=='Chocolate','case_ordered'].sum()\n",
    "    cho_sum.append(sum_1)"
   ]
  },
  {
   "cell_type": "markdown",
   "metadata": {},
   "source": [
    "7)\t将（6）中的每个门店销量赋值到（5）中每个门店对应的POI上；"
   ]
  },
  {
   "cell_type": "code",
   "execution_count": null,
   "metadata": {},
   "outputs": [],
   "source": [
    "# k6_1赋上销量信息\n",
    "# 构建门店编号及其销量信息的表\n",
    "data3={\n",
    "    'Chox3_Che_Cho':Chox3_Che_Cho,\n",
    "    'cho_sum':cho_sum\n",
    "}\n",
    "data3=pd.DataFrame(data3)\n",
    "data3.sort_values(by='Chox3_Che_Cho',inplace=True)\n",
    "\n",
    "k6_1.sort_values(by='storecode',inplace=True)\n",
    "\n",
    "sum_2=list(data3['cho_sum'])\n",
    "s_id =list(data3['Chox3_Che_Cho'])\n",
    "\n",
    "sum_3 =[]\n",
    "for i in range(len(s_id)):\n",
    "    cc=len(k6_1.loc[k6_1['storecode']==s_id[i]])\n",
    "    for j in range(cc):\n",
    "        sum_3.append(sum_2[i])\n",
    "\n",
    "# print(len(sum_3))\n",
    "# print(len(k3_1))\n",
    "\n",
    "k6_1['总销量']=sum_3\n",
    "\n",
    "fff=k6_1[['b_cat_id','b_cat_value','m_cat_id','m_cat_value','s_cat_id','s_cat_value','总销量']]"
   ]
  },
  {
   "cell_type": "markdown",
   "metadata": {},
   "source": [
    "8)\t求每个POI的销量累计值，按照销量由大到小排序；"
   ]
  },
  {
   "cell_type": "code",
   "execution_count": null,
   "metadata": {},
   "outputs": [],
   "source": [
    "k6_4 = fff.groupby(['s_cat_id','s_cat_value'])['总销量'].sum()\n",
    "k6_4 = k6_4.reset_index()\n",
    "k6_4.sort_values(['总销量'],ascending=[0],inplace=True)\n",
    "tt= list(k6_4['s_cat_id'])\n",
    "r1=[]\n",
    "r2=[]\n",
    "r3=[]\n",
    "r4=[]\n",
    "for i in range(len(tt)):\n",
    "    r1.append(list(set(list(fff.loc[fff['s_cat_id']==tt[i],'b_cat_id'])))[0])\n",
    "    r2.append(list(set(list(fff.loc[fff['s_cat_id']==tt[i],'b_cat_value'])))[0])\n",
    "    r3.append(list(set(list(fff.loc[fff['s_cat_id']==tt[i],'m_cat_id'])))[0])\n",
    "    r4.append(list(set(list(fff.loc[fff['s_cat_id']==tt[i],'m_cat_value'])))[0])\n",
    "k6_4['b_cat_id']=r1\n",
    "k6_4['b_cat_value']=r2\n",
    "k6_4['m_cat_id']=r3\n",
    "k6_4['m_cat_value']=r4\n",
    "\n",
    "k6_4=k6_4[['b_cat_id','b_cat_value','m_cat_id','m_cat_value','s_cat_id','s_cat_value','总销量']]\n",
    "\n",
    "k6_4.to_excel(r'C:\\Users\\Administrator\\Desktop\\任务六（六）.xlsx')"
   ]
  },
  {
   "cell_type": "markdown",
   "metadata": {},
   "source": [
    "## 七、有卖巧克力（平均订单时间<3个月）并且卖口香糖（平均下单时间>3个月）的门店对应前5个POI的巧克力累计销量"
   ]
  },
  {
   "cell_type": "markdown",
   "metadata": {},
   "source": [
    "1)\t求出卖巧克力的门店"
   ]
  },
  {
   "cell_type": "code",
   "execution_count": null,
   "metadata": {},
   "outputs": [],
   "source": [
    "# 卖Chocolate的'store_code'\n",
    "Chocolate_storeid=set(df1.loc[df1['ProductCategory']=='Chocolate','store_code'])\n",
    "Chocolate_storeid=list(Chocolate_storeid)"
   ]
  },
  {
   "cell_type": "markdown",
   "metadata": {},
   "source": [
    "2)\t求出巧克力平均下单时间小于3个月的门店"
   ]
  },
  {
   "cell_type": "code",
   "execution_count": null,
   "metadata": {},
   "outputs": [],
   "source": [
    "# 把Chocolate的那部分分成下单周期小于3个月和下达周期大于3个月两类\n",
    "Cstore_id_da3 = [] # 用来储存买Chocolate的那部分下单周期大于3个月的'store_code'\n",
    "Cstore_id_xiao3 = [] # 用来储存买Chocolate的那部分下单周期小于等于3个月的'store_code'\n",
    "for i in range(len(Chocolate_storeid)):\n",
    "    demo0 = df1.loc[df1['store_code']==Chocolate_storeid[i]]\n",
    "    # 这些门店可能同时买三种产品，拿出卖Chocolate的记录\n",
    "    demo0_1 = demo0.loc[demo0['ProductCategory']=='Chocolate']\n",
    "    # 选出订单时间\n",
    "    demo1 = demo0_1['order_date']\n",
    "    demo1 = demo1.sort_values()# 时间排序\n",
    "    # 时间提取，不要小时。。。\n",
    "    aa=demo1.map(lambda x: x.strftime('%Y-%m-%d'))\n",
    "    # 将字符串转变为时间\n",
    "    demo1=pd.to_datetime(aa)\n",
    "    demo1_index = list(demo1.index)\n",
    "\n",
    "    day=(demo1[demo1_index[-1]]-demo1[demo1_index[0]]).days\n",
    "    \n",
    "    #计算订单个数(将订单时间相等的订单当做一个订单)\n",
    "    order_sum=list(set(list(demo1)))\n",
    "    order_sum=len(order_sum)\n",
    "    #interval = day/(order_sum-1)，要提前判断下分母是否等于0\n",
    "    if order_sum-1==0:\n",
    "        Cstore_id_da3.append(Chocolate_storeid[i])\n",
    "    else:\n",
    "        interval = day/(order_sum-1)\n",
    "        if interval>90:\n",
    "            Cstore_id_da3.append(Chocolate_storeid[i])\n",
    "        else:\n",
    "            Cstore_id_xiao3.append(Chocolate_storeid[i]) "
   ]
  },
  {
   "cell_type": "markdown",
   "metadata": {},
   "source": [
    "3)\t求出（2）中门店中卖口香糖的门店"
   ]
  },
  {
   "cell_type": "code",
   "execution_count": null,
   "metadata": {},
   "outputs": [],
   "source": [
    "# 在Cstore_id_xiao3里面筛选出卖口香糖的门店；\n",
    "demo1=df1.loc[df1['store_code'].isin(Cstore_id_xiao3)]\n",
    "demo2=demo1.loc[demo1['ProductCategory']=='Chewing/Bubble Gum']\n",
    "Chox3_Che=list(set(list(demo2['store_code'])))"
   ]
  },
  {
   "cell_type": "markdown",
   "metadata": {},
   "source": [
    "4)\t求出（3）中口香糖平均下单时间大于3个月的门店；"
   ]
  },
  {
   "cell_type": "code",
   "execution_count": null,
   "metadata": {},
   "outputs": [],
   "source": [
    "# 将Chox3_Che划分为口香糖平均下单时间>3个月\n",
    "CC_da3=[]\n",
    "CC_xiao3=[]\n",
    "for i in range(len(Chox3_Che)):\n",
    "    \n",
    "    demo0 = df1.loc[df1['store_code']==Chox3_Che[i]]\n",
    "    demo0_1 = demo0.loc[demo0['ProductCategory']=='Chewing/Bubble Gum']\n",
    "    # 选出订单时间\n",
    "    demo1 = demo0_1['order_date']\n",
    "    demo1 = demo1.sort_values()# 时间排序\n",
    "    # 时间提取，不要小时。。。\n",
    "    aa=demo1.map(lambda x: x.strftime('%Y-%m-%d'))\n",
    "    # 将字符串转变为时间\n",
    "    demo1=pd.to_datetime(aa)\n",
    "    demo1_index = list(demo1.index)\n",
    "\n",
    "    day=(demo1[demo1_index[-1]]-demo1[demo1_index[0]]).days\n",
    "    print('day',day)\n",
    "    #计算订单个数\n",
    "    order_sum=list(set(list(demo1)))\n",
    "    order_sum=len(order_sum)\n",
    "    print('order_sum',order_sum)\n",
    "    \n",
    "    #interval = day/(order_sum-1)，要提前判断下分母是否等于0\n",
    "    if order_sum-1==0:\n",
    "        CC_da3.append(Chox3_Che[i])\n",
    "    else:\n",
    "        interval = day/(order_sum-1)\n",
    "        if interval>90:\n",
    "            CC_da3.append(Chox3_Che[i])\n",
    "        else:\n",
    "            CC_xiao3.append(Chox3_Che[i]) "
   ]
  },
  {
   "cell_type": "markdown",
   "metadata": {},
   "source": [
    "5)\t求出（4）中门店对应的POI，去重、去充电宝，按照距离有小到大保留前5个POI；"
   ]
  },
  {
   "cell_type": "code",
   "execution_count": null,
   "metadata": {},
   "outputs": [],
   "source": [
    "# CC_da3对应的poi\n",
    "CC_da3_POI=df_POI[df_POI['storecode'].isin(CC_da3)]\n",
    "# 去充电宝\n",
    "CC_da3_POI=CC_da3_POI.drop(CC_da3_POI[CC_da3_POI['s_cat_value']=='充电宝'].index)\n",
    "# 对每个门店的poi去重（相同POI留下距离近的那个POI）\n",
    "CC_da3_POI.sort_values(['storecode','s_cat_id','distance'],ascending=[1,0,1],inplace=True)\n",
    "k7_1 = CC_da3_POI.groupby(['storecode','s_cat_id']).head(5)"
   ]
  },
  {
   "cell_type": "markdown",
   "metadata": {},
   "source": [
    "6)\t求出（3）中每个门店的巧克力销量（case-ordered）"
   ]
  },
  {
   "cell_type": "code",
   "execution_count": null,
   "metadata": {},
   "outputs": [],
   "source": [
    "# 在Chox3_Che里面筛选出卖巧克力的门店；\n",
    "demo1=df1.loc[df1['store_code'].isin(Chox3_Che)]\n",
    "demo2=demo1.loc[demo1['ProductCategory']=='Chocolate']\n",
    "Chox3_Che_Cho=list(set(list(demo2['store_code'])))\n",
    "# 门店巧克力销售加总\n",
    "cho_sum=[] \n",
    "for i in range(len(Chox3_Che_Cho)):\n",
    "    demo3 = df1.loc[df1['store_code']==Chox3_Che_Cho[i]]\n",
    "    sum_1 = demo3.loc[demo3['ProductCategory']=='Chocolate','case_ordered'].sum()\n",
    "    cho_sum.append(sum_1)"
   ]
  },
  {
   "cell_type": "markdown",
   "metadata": {},
   "source": [
    "7)\t将（6）中的每个门店销量赋值到（5）中每个门店对应的POI上；"
   ]
  },
  {
   "cell_type": "code",
   "execution_count": null,
   "metadata": {},
   "outputs": [],
   "source": [
    "# k7_1赋上销量信息\n",
    "# 构建门店编号及其销量信息的表\n",
    "data3={\n",
    "    'Chox3_Che_Cho':Chox3_Che_Cho,\n",
    "    'cho_sum':cho_sum\n",
    "}\n",
    "data3=pd.DataFrame(data3)\n",
    "data3.sort_values(by='Chox3_Che_Cho',inplace=True)\n",
    "\n",
    "k7_1.sort_values(by='storecode',inplace=True)\n",
    "\n",
    "sum_2=list(data3['cho_sum'])\n",
    "s_id =list(data3['Chox3_Che_Cho'])\n",
    "\n",
    "sum_3 =[]\n",
    "for i in range(len(s_id)):\n",
    "    cc=len(k7_1.loc[k7_1['storecode']==s_id[i]])\n",
    "    for j in range(cc):\n",
    "        sum_3.append(sum_2[i])\n",
    "\n",
    "# print(len(sum_3))\n",
    "# print(len(k3_1))\n",
    "\n",
    "k7_1['总销量']=sum_3\n",
    "\n",
    "fff=k7_1[['b_cat_id','b_cat_value','m_cat_id','m_cat_value','s_cat_id','s_cat_value','总销量']]"
   ]
  },
  {
   "cell_type": "markdown",
   "metadata": {},
   "source": [
    "8)\t求每个POI的销量累计值，按照销量由大到小排序；"
   ]
  },
  {
   "cell_type": "code",
   "execution_count": null,
   "metadata": {},
   "outputs": [],
   "source": [
    "k7_4 = fff.groupby(['s_cat_id','s_cat_value'])['总销量'].sum()\n",
    "k7_4 = k7_4.reset_index()\n",
    "k7_4.sort_values(['总销量'],ascending=[0],inplace=True)\n",
    "tt= list(k7_4['s_cat_id'])\n",
    "r1=[]\n",
    "r2=[]\n",
    "r3=[]\n",
    "r4=[]\n",
    "for i in range(len(tt)):\n",
    "    r1.append(list(set(list(fff.loc[fff['s_cat_id']==tt[i],'b_cat_id'])))[0])\n",
    "    r2.append(list(set(list(fff.loc[fff['s_cat_id']==tt[i],'b_cat_value'])))[0])\n",
    "    r3.append(list(set(list(fff.loc[fff['s_cat_id']==tt[i],'m_cat_id'])))[0])\n",
    "    r4.append(list(set(list(fff.loc[fff['s_cat_id']==tt[i],'m_cat_value'])))[0])\n",
    "k7_4['b_cat_id']=r1\n",
    "k7_4['b_cat_value']=r2\n",
    "k7_4['m_cat_id']=r3\n",
    "k7_4['m_cat_value']=r4\n",
    "\n",
    "k7_4=k7_4[['b_cat_id','b_cat_value','m_cat_id','m_cat_value','s_cat_id','s_cat_value','总销量']]\n",
    "\n",
    "k7_4.to_excel(r'C:\\Users\\Administrator\\Desktop\\任务六（七）.xlsx')"
   ]
  },
  {
   "cell_type": "markdown",
   "metadata": {},
   "source": [
    "## 八、有卖巧克力（平均订单时间<3个月）并且卖口香糖（平均下单时间>3个月）的门店对应前10个POI的巧克力累计销量"
   ]
  },
  {
   "cell_type": "markdown",
   "metadata": {},
   "source": [
    "1)\t求出卖巧克力的门店"
   ]
  },
  {
   "cell_type": "code",
   "execution_count": null,
   "metadata": {},
   "outputs": [],
   "source": [
    "# 卖Chocolate的'store_code'\n",
    "Chocolate_storeid=set(df1.loc[df1['ProductCategory']=='Chocolate','store_code'])\n",
    "Chocolate_storeid=list(Chocolate_storeid)"
   ]
  },
  {
   "cell_type": "markdown",
   "metadata": {},
   "source": [
    "2)\t求出巧克力平均下单时间小于3个月的门店"
   ]
  },
  {
   "cell_type": "code",
   "execution_count": null,
   "metadata": {},
   "outputs": [],
   "source": [
    "# 把Chocolate的那部分分成下单周期小于3个月和下达周期大于3个月两类\n",
    "Cstore_id_da3 = [] # 用来储存买Chocolate的那部分下单周期大于3个月的'store_code'\n",
    "Cstore_id_xiao3 = [] # 用来储存买Chocolate的那部分下单周期小于等于3个月的'store_code'\n",
    "for i in range(len(Chocolate_storeid)):\n",
    "    demo0 = df1.loc[df1['store_code']==Chocolate_storeid[i]]\n",
    "    # 这些门店可能同时买三种产品，拿出卖Chocolate的记录\n",
    "    demo0_1 = demo0.loc[demo0['ProductCategory']=='Chocolate']\n",
    "    # 选出订单时间\n",
    "    demo1 = demo0_1['order_date']\n",
    "    demo1 = demo1.sort_values()# 时间排序\n",
    "    # 时间提取，不要小时。。。\n",
    "    aa=demo1.map(lambda x: x.strftime('%Y-%m-%d'))\n",
    "    # 将字符串转变为时间\n",
    "    demo1=pd.to_datetime(aa)\n",
    "    demo1_index = list(demo1.index)\n",
    "\n",
    "    day=(demo1[demo1_index[-1]]-demo1[demo1_index[0]]).days\n",
    "    \n",
    "    #计算订单个数(将订单时间相等的订单当做一个订单)\n",
    "    order_sum=list(set(list(demo1)))\n",
    "    order_sum=len(order_sum)\n",
    "    #interval = day/(order_sum-1)，要提前判断下分母是否等于0\n",
    "    if order_sum-1==0:\n",
    "        Cstore_id_da3.append(Chocolate_storeid[i])\n",
    "    else:\n",
    "        interval = day/(order_sum-1)\n",
    "        if interval>90:\n",
    "            Cstore_id_da3.append(Chocolate_storeid[i])\n",
    "        else:\n",
    "            Cstore_id_xiao3.append(Chocolate_storeid[i]) "
   ]
  },
  {
   "cell_type": "markdown",
   "metadata": {},
   "source": [
    "3)\t求出（2）中门店中卖口香糖的门店"
   ]
  },
  {
   "cell_type": "code",
   "execution_count": null,
   "metadata": {},
   "outputs": [],
   "source": [
    "# 在Cstore_id_xiao3里面筛选出卖口香糖的门店；\n",
    "demo1=df1.loc[df1['store_code'].isin(Cstore_id_xiao3)]\n",
    "demo2=demo1.loc[demo1['ProductCategory']=='Chewing/Bubble Gum']\n",
    "Chox3_Che=list(set(list(demo2['store_code'])))"
   ]
  },
  {
   "cell_type": "markdown",
   "metadata": {},
   "source": [
    "4)\t求出（3）中口香糖平均下单时间大于3个月的门店；"
   ]
  },
  {
   "cell_type": "code",
   "execution_count": null,
   "metadata": {},
   "outputs": [],
   "source": [
    "# 将Chox3_Che划分为口香糖平均下单时间>3个月\n",
    "CC_da3=[]\n",
    "CC_xiao3=[]\n",
    "for i in range(len(Chox3_Che)):\n",
    "    \n",
    "    demo0 = df1.loc[df1['store_code']==Chox3_Che[i]]\n",
    "    demo0_1 = demo0.loc[demo0['ProductCategory']=='Chewing/Bubble Gum']\n",
    "    # 选出订单时间\n",
    "    demo1 = demo0_1['order_date']\n",
    "    demo1 = demo1.sort_values()# 时间排序\n",
    "    # 时间提取，不要小时。。。\n",
    "    aa=demo1.map(lambda x: x.strftime('%Y-%m-%d'))\n",
    "    # 将字符串转变为时间\n",
    "    demo1=pd.to_datetime(aa)\n",
    "    demo1_index = list(demo1.index)\n",
    "\n",
    "    day=(demo1[demo1_index[-1]]-demo1[demo1_index[0]]).days\n",
    "    print('day',day)\n",
    "    #计算订单个数\n",
    "    order_sum=list(set(list(demo1)))\n",
    "    order_sum=len(order_sum)\n",
    "    print('order_sum',order_sum)\n",
    "    \n",
    "    #interval = day/(order_sum-1)，要提前判断下分母是否等于0\n",
    "    if order_sum-1==0:\n",
    "        CC_da3.append(Chox3_Che[i])\n",
    "    else:\n",
    "        interval = day/(order_sum-1)\n",
    "        if interval>90:\n",
    "            CC_da3.append(Chox3_Che[i])\n",
    "        else:\n",
    "            CC_xiao3.append(Chox3_Che[i]) "
   ]
  },
  {
   "cell_type": "markdown",
   "metadata": {},
   "source": [
    "5)\t求出（4）中门店对应的POI，去重、去充电宝，按照距离有小到大保留前十个POI；"
   ]
  },
  {
   "cell_type": "code",
   "execution_count": null,
   "metadata": {},
   "outputs": [],
   "source": [
    "# CC_da3对应的poi\n",
    "CC_da3_POI=df_POI[df_POI['storecode'].isin(CC_da3)]\n",
    "# 去充电宝\n",
    "CC_da3_POI=CC_da3_POI.drop(CC_da3_POI[CC_da3_POI['s_cat_value']=='充电宝'].index)\n",
    "# 对每个门店的poi去重（相同POI留下距离近的那个POI）\n",
    "CC_da3_POI.sort_values(['storecode','s_cat_id','distance'],ascending=[1,0,1],inplace=True)\n",
    "k8_1 = CC_da3_POI.groupby(['storecode','s_cat_id']).head(10)"
   ]
  },
  {
   "cell_type": "markdown",
   "metadata": {},
   "source": [
    "6)\t求出（3）中每个门店的巧克力销量（case-ordered）"
   ]
  },
  {
   "cell_type": "code",
   "execution_count": null,
   "metadata": {},
   "outputs": [],
   "source": [
    "# 在Chox3_Che里面筛选出卖巧克力的门店；\n",
    "demo1=df1.loc[df1['store_code'].isin(Chox3_Che)]\n",
    "demo2=demo1.loc[demo1['ProductCategory']=='Chocolate']\n",
    "Chox3_Che_Cho=list(set(list(demo2['store_code'])))\n",
    "# 门店巧克力销售加总\n",
    "cho_sum=[] \n",
    "for i in range(len(Chox3_Che_Cho)):\n",
    "    demo3 = df1.loc[df1['store_code']==Chox3_Che_Cho[i]]\n",
    "    sum_1 = demo3.loc[demo3['ProductCategory']=='Chocolate','case_ordered'].sum()\n",
    "    cho_sum.append(sum_1)"
   ]
  },
  {
   "cell_type": "markdown",
   "metadata": {},
   "source": [
    "7)\t将（6）中的每个门店销量赋值到（5）中每个门店对应的POI上；"
   ]
  },
  {
   "cell_type": "code",
   "execution_count": null,
   "metadata": {},
   "outputs": [],
   "source": [
    "# k8_1赋上销量信息\n",
    "# 构建门店编号及其销量信息的表\n",
    "data3={\n",
    "    'Chox3_Che_Cho':Chox3_Che_Cho,\n",
    "    'cho_sum':cho_sum\n",
    "}\n",
    "data3=pd.DataFrame(data3)\n",
    "data3.sort_values(by='Chox3_Che_Cho',inplace=True)\n",
    "\n",
    "k8_1.sort_values(by='storecode',inplace=True)\n",
    "\n",
    "sum_2=list(data3['cho_sum'])\n",
    "s_id =list(data3['Chox3_Che_Cho'])\n",
    "\n",
    "sum_3 =[]\n",
    "for i in range(len(s_id)):\n",
    "    cc=len(k8_1.loc[k8_1['storecode']==s_id[i]])\n",
    "    for j in range(cc):\n",
    "        sum_3.append(sum_2[i])\n",
    "\n",
    "# print(len(sum_3))\n",
    "# print(len(k3_1))\n",
    "\n",
    "k8_1['总销量']=sum_3\n",
    "\n",
    "fff=k8_1[['b_cat_id','b_cat_value','m_cat_id','m_cat_value','s_cat_id','s_cat_value','总销量']]"
   ]
  },
  {
   "cell_type": "markdown",
   "metadata": {},
   "source": [
    "8)\t求每个POI的销量累计值，按照销量由大到小排序；"
   ]
  },
  {
   "cell_type": "code",
   "execution_count": null,
   "metadata": {},
   "outputs": [],
   "source": [
    "k8_4 = fff.groupby(['s_cat_id','s_cat_value'])['总销量'].sum()\n",
    "k8_4 = k8_4.reset_index()\n",
    "k8_4.sort_values(['总销量'],ascending=[0],inplace=True)\n",
    "tt= list(k8_4['s_cat_id'])\n",
    "r1=[]\n",
    "r2=[]\n",
    "r3=[]\n",
    "r4=[]\n",
    "for i in range(len(tt)):\n",
    "    r1.append(list(set(list(fff.loc[fff['s_cat_id']==tt[i],'b_cat_id'])))[0])\n",
    "    r2.append(list(set(list(fff.loc[fff['s_cat_id']==tt[i],'b_cat_value'])))[0])\n",
    "    r3.append(list(set(list(fff.loc[fff['s_cat_id']==tt[i],'m_cat_id'])))[0])\n",
    "    r4.append(list(set(list(fff.loc[fff['s_cat_id']==tt[i],'m_cat_value'])))[0])\n",
    "k8_4['b_cat_id']=r1\n",
    "k8_4['b_cat_value']=r2\n",
    "k8_4['m_cat_id']=r3\n",
    "k8_4['m_cat_value']=r4\n",
    "\n",
    "k8_4=k8_4[['b_cat_id','b_cat_value','m_cat_id','m_cat_value','s_cat_id','s_cat_value','总销量']]\n",
    "\n",
    "k8_4.to_excel(r'C:\\Users\\Administrator\\Desktop\\任务六（八）.xlsx')"
   ]
  }
 ],
 "metadata": {
  "kernelspec": {
   "display_name": "Python 3",
   "language": "python",
   "name": "python3"
  },
  "language_info": {
   "codemirror_mode": {
    "name": "ipython",
    "version": 3
   },
   "file_extension": ".py",
   "mimetype": "text/x-python",
   "name": "python",
   "nbconvert_exporter": "python",
   "pygments_lexer": "ipython3",
   "version": "3.7.6"
  }
 },
 "nbformat": 4,
 "nbformat_minor": 4
}
