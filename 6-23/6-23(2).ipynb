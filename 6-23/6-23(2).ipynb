{
 "cells": [
  {
   "cell_type": "code",
   "execution_count": 1,
   "metadata": {},
   "outputs": [],
   "source": [
    "# 导入数据\n",
    "import pandas as pd\n",
    "df1 = pd.read_excel(r'D:\\研究生资料\\玛氏数据\\5-22\\chengdu_521.xlsx')\n",
    "df_POI = pd.read_excel(r'D:\\研究生资料\\玛氏数据\\chengdu_poi_category.xlsx')"
   ]
  },
  {
   "cell_type": "markdown",
   "metadata": {},
   "source": [
    "## 2.\t门店按品类流转分析"
   ]
  },
  {
   "cell_type": "markdown",
   "metadata": {},
   "source": [
    "### a.\t各品类流转（平均订单间隔）<3个月和<2个月（按门店打标签）"
   ]
  },
  {
   "cell_type": "markdown",
   "metadata": {},
   "source": [
    "（1）\t求出个品类门店平均下单时间小于3个月的门店；"
   ]
  },
  {
   "cell_type": "code",
   "execution_count": 171,
   "metadata": {},
   "outputs": [],
   "source": [
    "import datetime\n",
    "# 卖Chocolate的'store_code'\n",
    "Chocolate_storeid=set(df1.loc[df1['ProductCategory']=='Sugar','store_code'])\n",
    "Chocolate_storeid=list(Chocolate_storeid)\n",
    "# 把Chocolate的那部分分成下单周期小于3个月和下达周期大于3个月两类\n",
    "Cstore_id_da3 = [] # 用来储存买Chocolate的那部分下单周期大于3个月的'store_code'\n",
    "Cstore_id_xiao3 = [] # 用来储存买Chocolate的那部分下单周期小于等于3个月的'store_code'\n",
    "for i in range(len(Chocolate_storeid)):\n",
    "    demo0 = df1.loc[df1['store_code']==Chocolate_storeid[i]]\n",
    "    # 这些门店可能同时买三种产品，拿出卖Chocolate的记录\n",
    "    demo0_1 = demo0.loc[demo0['ProductCategory']=='Sugar']\n",
    "    # 选出订单时间\n",
    "    demo1 = demo0_1['order_date']\n",
    "    demo1 = demo1.sort_values()# 时间排序\n",
    "    # 时间提取，不要小时。。。\n",
    "    aa=demo1.map(lambda x: x.strftime('%Y-%m-%d'))\n",
    "    # 将字符串转变为时间\n",
    "    demo1=pd.to_datetime(aa)\n",
    "    demo1_index = list(demo1.index)\n",
    "\n",
    "    day=(demo1[demo1_index[-1]]-demo1[demo1_index[0]]).days\n",
    "    \n",
    "    #计算订单个数(将订单时间相等的订单当做一个订单)\n",
    "    order_sum=list(set(list(demo1)))\n",
    "    order_sum=len(order_sum)\n",
    "    #interval = day/(order_sum-1)，要提前判断下分母是否等于0\n",
    "    if order_sum-1==0:\n",
    "        #取出订单的时间\n",
    "        day_time =(demo1[demo1_index[0]])\n",
    "        now_time = datetime.datetime.now() #当前时间\n",
    "        gap_time= (now_time-day_time).days\n",
    "        if gap_time>180:\n",
    "            Cstore_id_da3.append(Chocolate_storeid[i])\n",
    "        else:\n",
    "            Cstore_id_xiao3.append(Chocolate_storeid[i])\n",
    "    else:\n",
    "        interval = day/(order_sum-1)\n",
    "        if interval>180:\n",
    "            Cstore_id_da3.append(Chocolate_storeid[i])\n",
    "        else:\n",
    "            Cstore_id_xiao3.append(Chocolate_storeid[i]) "
   ]
  },
  {
   "cell_type": "code",
   "execution_count": 172,
   "metadata": {},
   "outputs": [],
   "source": [
    "# Cstore_id_xiao3 \n",
    "# Choco_Turnover_3M_L_Storelist\n",
    "# store_name store_code channel_name3\n",
    "df_Cho=df1.loc[df1['store_code'].isin(Cstore_id_da3),['store_code','store_name','channel_name3']]"
   ]
  },
  {
   "cell_type": "code",
   "execution_count": 173,
   "metadata": {},
   "outputs": [],
   "source": [
    "# Choco_Turnover_3M_M_Storelist\n",
    "df_Cho_1=df_Cho.drop_duplicates(['store_code'])\n",
    "df_Cho_1.to_excel(r'C:\\Users\\Administrator\\Desktop\\Sugar_Turnover_6M_M_Storelist.xlsx')"
   ]
  },
  {
   "cell_type": "markdown",
   "metadata": {},
   "source": [
    "（2）\t取（1）中门店去重后排序TOP10的POI；"
   ]
  },
  {
   "cell_type": "code",
   "execution_count": 174,
   "metadata": {},
   "outputs": [],
   "source": [
    "# 从df_Cho_1 从取出门店id \n",
    "df_choco = pd.read_excel(r'C:\\Users\\Administrator\\Desktop\\任务一\\Sugar_Store_POI（纵）.xlsx')\n",
    "storeid = list(df_Cho_1['store_code'])"
   ]
  },
  {
   "cell_type": "code",
   "execution_count": 175,
   "metadata": {},
   "outputs": [],
   "source": [
    "df_Cho_1_POI = df_choco.loc[df_choco['storecode'].isin(storeid)]"
   ]
  },
  {
   "cell_type": "code",
   "execution_count": 176,
   "metadata": {},
   "outputs": [],
   "source": [
    "# Choco_Turnover_3M_L_POI\n",
    "df_Cho_1_POI.to_excel(r'C:\\Users\\Administrator\\Desktop\\Sugar_Turnover_6M_M_POI.xlsx')"
   ]
  },
  {
   "cell_type": "markdown",
   "metadata": {},
   "source": [
    "（3）\t平均下单时间小于2个月的过程如上："
   ]
  },
  {
   "cell_type": "code",
   "execution_count": null,
   "metadata": {},
   "outputs": [],
   "source": []
  },
  {
   "cell_type": "code",
   "execution_count": null,
   "metadata": {},
   "outputs": [],
   "source": []
  },
  {
   "cell_type": "markdown",
   "metadata": {},
   "source": [
    "## b.各品类流转>=3个月"
   ]
  },
  {
   "cell_type": "markdown",
   "metadata": {},
   "source": [
    "（1）求出个品类门店平均下单时间>=3个月的门店；"
   ]
  },
  {
   "cell_type": "code",
   "execution_count": null,
   "metadata": {},
   "outputs": [],
   "source": []
  },
  {
   "cell_type": "markdown",
   "metadata": {},
   "source": [
    "（2）\t取（1）中门店去重后排序TOP10的POI；"
   ]
  },
  {
   "cell_type": "code",
   "execution_count": null,
   "metadata": {},
   "outputs": [],
   "source": []
  }
 ],
 "metadata": {
  "kernelspec": {
   "display_name": "Python 3",
   "language": "python",
   "name": "python3"
  },
  "language_info": {
   "codemirror_mode": {
    "name": "ipython",
    "version": 3
   },
   "file_extension": ".py",
   "mimetype": "text/x-python",
   "name": "python",
   "nbconvert_exporter": "python",
   "pygments_lexer": "ipython3",
   "version": "3.7.6"
  }
 },
 "nbformat": 4,
 "nbformat_minor": 4
}
