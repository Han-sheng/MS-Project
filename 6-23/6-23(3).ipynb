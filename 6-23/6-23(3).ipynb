{
 "cells": [
  {
   "cell_type": "code",
   "execution_count": 1,
   "metadata": {},
   "outputs": [],
   "source": [
    "# 导入数据\n",
    "import pandas as pd\n",
    "df1 = pd.read_excel(r'D:\\研究生资料\\玛氏数据\\5-22\\chengdu_521.xlsx')\n",
    "df_POI = pd.read_excel(r'D:\\研究生资料\\玛氏数据\\chengdu_poi_category.xlsx')"
   ]
  },
  {
   "cell_type": "markdown",
   "metadata": {},
   "source": [
    "## 3.\t门店按品类POI整理"
   ]
  },
  {
   "cell_type": "markdown",
   "metadata": {},
   "source": [
    "a.\t所有流转<3个月流转的门店POI (按品类)按case量统计累加取top15(每个品类1份)"
   ]
  },
  {
   "cell_type": "code",
   "execution_count": 222,
   "metadata": {},
   "outputs": [],
   "source": [
    "df_Choco_1 = pd.read_excel(r'C:\\Users\\Administrator\\Desktop\\任务二(1)\\Sugar_Turnover_3M_L_POI.xlsx')\n",
    "df_Choco_2 = pd.read_excel(r'C:\\Users\\Administrator\\Desktop\\任务二(1)\\Sugar_Turnover_3M_L_Storelist.xlsx')"
   ]
  },
  {
   "cell_type": "code",
   "execution_count": 223,
   "metadata": {},
   "outputs": [
    {
     "name": "stdout",
     "output_type": "stream",
     "text": [
      "10639\n"
     ]
    }
   ],
   "source": [
    "storeid=list(df_Choco_2['store_code'])\n",
    "print(len(storeid))\n",
    "# 门店巧克力销售加总\n",
    "cho_sum=[] \n",
    "for i in range(len(storeid)):\n",
    "    demo3 = df1.loc[df1['store_code']==storeid[i]]\n",
    "    sum_1 = demo3.loc[demo3['ProductCategory']=='Sugar','case_ordered'].sum()\n",
    "    cho_sum.append(sum_1)"
   ]
  },
  {
   "cell_type": "code",
   "execution_count": 224,
   "metadata": {},
   "outputs": [],
   "source": [
    "# df_Choco_1赋上销量信息\n",
    "# 构建门店编号及其销量信息的表\n",
    "data3={\n",
    "    'storeid':storeid,\n",
    "    'cho_sum':cho_sum\n",
    "}\n",
    "data3=pd.DataFrame(data3)\n",
    "data3.sort_values(by='storeid',inplace=True)\n",
    "\n",
    "df_Choco_1.sort_values(by='storecode',inplace=True)\n",
    "\n",
    "sum_2=list(data3['cho_sum'])\n",
    "s_id =list(data3['storeid'])\n",
    "\n",
    "sum_3 =[]\n",
    "for i in range(len(s_id)):\n",
    "    cc=len(df_Choco_1.loc[df_Choco_1['storecode']==s_id[i]])\n",
    "    for j in range(cc):\n",
    "        sum_3.append(sum_2[i])\n",
    "\n",
    "df_Choco_1['总销量']=sum_3"
   ]
  },
  {
   "cell_type": "code",
   "execution_count": 225,
   "metadata": {},
   "outputs": [],
   "source": [
    "# Choco_Turnover_3M_L_POI_case\n",
    "df_Choco_1.to_excel(r'C:\\Users\\Administrator\\Desktop\\Sugar_Turnover_3M_L_POI_case.xlsx')"
   ]
  },
  {
   "cell_type": "code",
   "execution_count": 226,
   "metadata": {},
   "outputs": [],
   "source": [
    "k5_4 = df_Choco_1.groupby(['s_cat_id','s_cat_value'])['总销量'].sum()\n",
    "k5_4 = k5_4.reset_index()\n",
    "k5_4.sort_values(['总销量'],ascending=[0],inplace=True)\n",
    "tt= list(k5_4['s_cat_id'])\n",
    "r1=[]\n",
    "r2=[]\n",
    "r3=[]\n",
    "r4=[]\n",
    "for i in range(len(tt)):\n",
    "    r1.append(list(set(list(df_Choco_1.loc[df_Choco_1['s_cat_id']==tt[i],'b_cat_id'])))[0])\n",
    "    r2.append(list(set(list(df_Choco_1.loc[df_Choco_1['s_cat_id']==tt[i],'b_cat_value'])))[0])\n",
    "    r3.append(list(set(list(df_Choco_1.loc[df_Choco_1['s_cat_id']==tt[i],'m_cat_id'])))[0])\n",
    "    r4.append(list(set(list(df_Choco_1.loc[df_Choco_1['s_cat_id']==tt[i],'m_cat_value'])))[0])\n",
    "k5_4['b_cat_id']=r1\n",
    "k5_4['b_cat_value']=r2\n",
    "k5_4['m_cat_id']=r3\n",
    "k5_4['m_cat_value']=r4\n",
    "\n",
    "k5_4=k5_4[['b_cat_id','b_cat_value','m_cat_id','m_cat_value','s_cat_id','s_cat_value','总销量']]"
   ]
  },
  {
   "cell_type": "code",
   "execution_count": 227,
   "metadata": {},
   "outputs": [],
   "source": [
    "# Choco_Turnover_3M_L_POI_caselist\n",
    "k5_4.to_excel(r'C:\\Users\\Administrator\\Desktop\\Sugar_Turnover_3M_L_POI_caselist.xlsx')"
   ]
  },
  {
   "cell_type": "code",
   "execution_count": 228,
   "metadata": {},
   "outputs": [],
   "source": [
    "k5_5=k5_4.head(15)\n",
    "k5_5.to_excel(r'C:\\Users\\Administrator\\Desktop\\Sugar_Turnover_3M_L_POI_caselist_top15.xlsx')"
   ]
  },
  {
   "cell_type": "code",
   "execution_count": null,
   "metadata": {},
   "outputs": [],
   "source": []
  },
  {
   "cell_type": "code",
   "execution_count": null,
   "metadata": {},
   "outputs": [],
   "source": []
  },
  {
   "cell_type": "code",
   "execution_count": null,
   "metadata": {},
   "outputs": [],
   "source": []
  },
  {
   "cell_type": "code",
   "execution_count": 35,
   "metadata": {},
   "outputs": [],
   "source": [
    "df_Choco_1 = pd.read_excel(r'C:\\Users\\Administrator\\Desktop\\任务二(2)\\Sugar_Turnover_6M_M_POI.xlsx')"
   ]
  },
  {
   "cell_type": "code",
   "execution_count": 36,
   "metadata": {},
   "outputs": [],
   "source": [
    "k1_1=df_Choco_1"
   ]
  },
  {
   "cell_type": "code",
   "execution_count": 37,
   "metadata": {},
   "outputs": [],
   "source": [
    "# 统计POI出现次数，并排序\n",
    "# 在k1_1的基础上，求POI出现次数\n",
    "k1_1=df_Choco_1\n",
    "k1_1['nums']=0\n",
    "uu_1=list(k1_1.groupby(['s_cat_id']).count()['nums'].index) # 表示s_cat_id\n",
    "uu_2=list(k1_1.groupby(['s_cat_id']).count()['nums'].values) # 表示出现次数\n",
    "uu_3=[]\n",
    "uu_4=[]\n",
    "uu_5=[]\n",
    "uu_6=[]\n",
    "uu_7=[]\n",
    "# 'b_cat_id','b_cat_value','m_cat_id','m_cat_value'\n",
    "for i in range(len(uu_1)):\n",
    "    f1=list(k1_1.loc[k1_1['s_cat_id']==uu_1[i],'b_cat_id'])[0]\n",
    "    f2=list(k1_1.loc[k1_1['s_cat_id']==uu_1[i],'b_cat_value'])[0]\n",
    "    f3=list(k1_1.loc[k1_1['s_cat_id']==uu_1[i],'m_cat_id'])[0]\n",
    "    f4=list(k1_1.loc[k1_1['s_cat_id']==uu_1[i],'m_cat_value'])[0]\n",
    "    f5=list(k1_1.loc[k1_1['s_cat_id']==uu_1[i],'s_cat_value'])[0]\n",
    "    uu_3.append(f1)\n",
    "    uu_4.append(f2)\n",
    "    uu_5.append(f3)\n",
    "    uu_6.append(f4)\n",
    "    uu_7.append(f5)\n",
    "\n",
    "data3={\n",
    "    'b_cat_id':uu_3,\n",
    "    'b_cat_value':uu_4,\n",
    "    'm_cat_id':uu_5,\n",
    "    'm_cat_value':uu_6,\n",
    "    's_cat_id':uu_1,\n",
    "    's_cat_value':uu_7,\n",
    "    '出现次数':uu_2\n",
    "    \n",
    "}\n",
    "k1_2=pd.DataFrame(data3)"
   ]
  },
  {
   "cell_type": "code",
   "execution_count": 38,
   "metadata": {},
   "outputs": [],
   "source": [
    "k1_2.sort_values(by='出现次数',ascending=0,inplace=True)"
   ]
  },
  {
   "cell_type": "code",
   "execution_count": 39,
   "metadata": {},
   "outputs": [],
   "source": [
    "#Sugar_Turnover_3M_M_POI\n",
    "k1_2.to_excel(r'C:\\Users\\Administrator\\Desktop\\Sugar_Turnover_6M_M_POI_frequency.xlsx')"
   ]
  },
  {
   "cell_type": "code",
   "execution_count": 40,
   "metadata": {},
   "outputs": [],
   "source": [
    "k1_3=k1_2.head(10)\n",
    "k1_3.to_excel(r'C:\\Users\\Administrator\\Desktop\\Sugar_Turnover_6M_M_POI_frequency_top10.xlsx')"
   ]
  },
  {
   "cell_type": "code",
   "execution_count": null,
   "metadata": {},
   "outputs": [],
   "source": []
  }
 ],
 "metadata": {
  "kernelspec": {
   "display_name": "Python 3",
   "language": "python",
   "name": "python3"
  },
  "language_info": {
   "codemirror_mode": {
    "name": "ipython",
    "version": 3
   },
   "file_extension": ".py",
   "mimetype": "text/x-python",
   "name": "python",
   "nbconvert_exporter": "python",
   "pygments_lexer": "ipython3",
   "version": "3.7.6"
  }
 },
 "nbformat": 4,
 "nbformat_minor": 4
}
