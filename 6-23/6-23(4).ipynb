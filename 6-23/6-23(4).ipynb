{
 "cells": [
  {
   "cell_type": "code",
   "execution_count": 1,
   "metadata": {},
   "outputs": [],
   "source": [
    "# 导入数据\n",
    "import pandas as pd\n",
    "df1 = pd.read_excel(r'D:\\研究生资料\\玛氏数据\\5-22\\chengdu_521.xlsx')\n",
    "df_POI = pd.read_excel(r'D:\\研究生资料\\玛氏数据\\chengdu_poi_category.xlsx')"
   ]
  },
  {
   "cell_type": "markdown",
   "metadata": {},
   "source": [
    "## 4.按销量占比的门店分析"
   ]
  },
  {
   "cell_type": "markdown",
   "metadata": {},
   "source": [
    "### a. 占比划分：>=70%（金额；强），30%<=占比<70%（中）；占比<30%（弱）\n"
   ]
  },
  {
   "cell_type": "markdown",
   "metadata": {},
   "source": [
    "（1）\t求出每个门店中三个品类的销量，然后求各个品类销量的占比；"
   ]
  },
  {
   "cell_type": "code",
   "execution_count": 41,
   "metadata": {},
   "outputs": [],
   "source": [
    "import numpy as np"
   ]
  },
  {
   "cell_type": "code",
   "execution_count": 44,
   "metadata": {},
   "outputs": [],
   "source": [
    "# 求出每个门店的总销量\n",
    "storeid=list(df1['store_code'])\n",
    "storeid=list(set(storeid))\n",
    "\n",
    "id_sum=[] \n",
    "for i in range(len(storeid)):\n",
    "    demo1 = df1.loc[df1['store_code']==storeid[i]]\n",
    "    aa = list(demo1['case_ordered'])\n",
    "    sum_1=np.array(aa).sum()\n",
    "    id_sum.append(sum_1)"
   ]
  },
  {
   "cell_type": "code",
   "execution_count": 45,
   "metadata": {},
   "outputs": [
    {
     "name": "stdout",
     "output_type": "stream",
     "text": [
      "16784\n",
      "16784\n"
     ]
    }
   ],
   "source": [
    "print(len(storeid))\n",
    "print(len(id_sum))"
   ]
  },
  {
   "cell_type": "code",
   "execution_count": 47,
   "metadata": {},
   "outputs": [],
   "source": [
    "# 求出每个门店的Chocolate\\Chewing\\Sugar总销量\n",
    "id_cho_sum=[] \n",
    "id_che_sum=[] \n",
    "id_sugar_sum=[]\n",
    "for i in range(len(storeid)):\n",
    "    demo1 = df1.loc[df1['store_code']==storeid[i]]\n",
    "    aa = list(demo1.loc[demo1['ProductCategory']=='Chocolate','case_ordered'])\n",
    "    bb = list(demo1.loc[demo1['ProductCategory']=='Chewing/Bubble Gum','case_ordered'])\n",
    "    cc = list(demo1.loc[demo1['ProductCategory']=='Sugar','case_ordered'])\n",
    "    sum_1=np.array(aa).sum()\n",
    "    sum_2=np.array(bb).sum()\n",
    "    sum_3=np.array(cc).sum()\n",
    "    id_cho_sum.append(sum_1)\n",
    "    id_che_sum.append(sum_2)\n",
    "    id_sugar_sum.append(sum_3)\n"
   ]
  },
  {
   "cell_type": "code",
   "execution_count": 48,
   "metadata": {},
   "outputs": [
    {
     "name": "stdout",
     "output_type": "stream",
     "text": [
      "2.124999999995\n",
      "2.124999999995\n"
     ]
    }
   ],
   "source": [
    "print(id_sum[0])\n",
    "print(id_cho_sum[0]+id_che_sum[0]+id_sugar_sum[0])"
   ]
  },
  {
   "cell_type": "code",
   "execution_count": 49,
   "metadata": {},
   "outputs": [],
   "source": [
    "cho_pro = [id_cho_sum[i]/id_sum[i] for i in range(len(id_sum))]\n",
    "che_pro = [id_che_sum[i]/id_sum[i] for i in range(len(id_sum))]\n",
    "sug_pro = [id_sugar_sum[i]/id_sum[i] for i in range(len(id_sum))]"
   ]
  },
  {
   "cell_type": "code",
   "execution_count": 61,
   "metadata": {},
   "outputs": [],
   "source": [
    "# 取小数点后四位\n",
    "cho_pro_1=['%.4f' % cho_pro[i] for i in range(len(cho_pro))]\n",
    "cho_pro_2=[float(cho_pro_1[i]) for i in range(len(cho_pro_1))]\n",
    "che_pro_1=['%.4f' % che_pro[i] for i in range(len(che_pro))]\n",
    "che_pro_2=[float(che_pro_1[i]) for i in range(len(che_pro_1))]\n",
    "sug_pro_1=['%.4f' % sug_pro[i] for i in range(len(sug_pro))]\n",
    "sug_pro_2=[float(sug_pro_1[i]) for i in range(len(sug_pro_1))]"
   ]
  },
  {
   "cell_type": "code",
   "execution_count": 64,
   "metadata": {},
   "outputs": [],
   "source": [
    "data1={\n",
    "    '门店编号':storeid,\n",
    "    'Chocolate销售占比':cho_pro_2,\n",
    "    'Gum销售占比':che_pro_2,\n",
    "    'Sugar销售占比':sug_pro_2 \n",
    "}\n",
    "data1=pd.DataFrame(data1)\n",
    "data1.to_excel(r'C:\\Users\\Administrator\\Desktop\\Store_Volume_Tag_by_Cat_RATIO.xlsx')"
   ]
  },
  {
   "cell_type": "code",
   "execution_count": 65,
   "metadata": {},
   "outputs": [
    {
     "data": {
      "text/html": [
       "<div>\n",
       "<style scoped>\n",
       "    .dataframe tbody tr th:only-of-type {\n",
       "        vertical-align: middle;\n",
       "    }\n",
       "\n",
       "    .dataframe tbody tr th {\n",
       "        vertical-align: top;\n",
       "    }\n",
       "\n",
       "    .dataframe thead th {\n",
       "        text-align: right;\n",
       "    }\n",
       "</style>\n",
       "<table border=\"1\" class=\"dataframe\">\n",
       "  <thead>\n",
       "    <tr style=\"text-align: right;\">\n",
       "      <th></th>\n",
       "      <th>门店编号</th>\n",
       "      <th>Chocolate销售占比</th>\n",
       "      <th>Gum销售占比</th>\n",
       "      <th>Sugar销售占比</th>\n",
       "    </tr>\n",
       "  </thead>\n",
       "  <tbody>\n",
       "    <tr>\n",
       "      <th>0</th>\n",
       "      <td>50954241</td>\n",
       "      <td>0.6078</td>\n",
       "      <td>0.3922</td>\n",
       "      <td>0.000</td>\n",
       "    </tr>\n",
       "    <tr>\n",
       "      <th>1</th>\n",
       "      <td>50954245</td>\n",
       "      <td>0.0439</td>\n",
       "      <td>0.0481</td>\n",
       "      <td>0.908</td>\n",
       "    </tr>\n",
       "    <tr>\n",
       "      <th>2</th>\n",
       "      <td>50987014</td>\n",
       "      <td>0.0000</td>\n",
       "      <td>1.0000</td>\n",
       "      <td>0.000</td>\n",
       "    </tr>\n",
       "  </tbody>\n",
       "</table>\n",
       "</div>"
      ],
      "text/plain": [
       "       门店编号  Chocolate销售占比  Gum销售占比  Sugar销售占比\n",
       "0  50954241         0.6078   0.3922      0.000\n",
       "1  50954245         0.0439   0.0481      0.908\n",
       "2  50987014         0.0000   1.0000      0.000"
      ]
     },
     "execution_count": 65,
     "metadata": {},
     "output_type": "execute_result"
    }
   ],
   "source": [
    "data1.head(3)"
   ]
  },
  {
   "cell_type": "markdown",
   "metadata": {},
   "source": [
    "（2）\t根据每个门店各个品类金额的占比，将其打上强、中、弱的标签；\n",
    "Store_Volume_Tag_by_Cat 可以把3个类目排成一个表把每个门店每个品类的比例放在一起。"
   ]
  },
  {
   "cell_type": "code",
   "execution_count": null,
   "metadata": {},
   "outputs": [],
   "source": []
  },
  {
   "cell_type": "markdown",
   "metadata": {},
   "source": [
    "（3）\t生成一张各个门店三个品类强中弱的统计表（b的结果）；\n"
   ]
  },
  {
   "cell_type": "code",
   "execution_count": null,
   "metadata": {},
   "outputs": [],
   "source": []
  },
  {
   "cell_type": "markdown",
   "metadata": {},
   "source": [
    "（4）\t统计出每个品类的强、中、弱分别对应的门店编号"
   ]
  },
  {
   "cell_type": "code",
   "execution_count": null,
   "metadata": {},
   "outputs": [],
   "source": []
  },
  {
   "cell_type": "markdown",
   "metadata": {},
   "source": [
    "## c. 按case量累计出强门店的top15 (注意，这里的top15是在门店前10 POI的case累加得到的case排序前15)\n"
   ]
  },
  {
   "cell_type": "markdown",
   "metadata": {},
   "source": [
    "（1）\t求出巧克力强门店每个门店去重后排序TOP10的POI；\n"
   ]
  },
  {
   "cell_type": "markdown",
   "metadata": {},
   "source": [
    "（2）\t求出巧克力强门店每个门店巧克力的case量；   \n",
    "（3）\t将（2）中case量分别加到每个门店对应的POI上；   \n",
    "（4）\t将相同的POI的case量相加，然后排序；   \n",
    "（5）\t选择累积量最大的前15 POI;   \n",
    "（6）\t糖果和口香糖的计算过程如上"
   ]
  },
  {
   "cell_type": "code",
   "execution_count": 67,
   "metadata": {},
   "outputs": [],
   "source": [
    "df_22 = pd.read_excel(r'C:\\Users\\Administrator\\Desktop\\Store_Volume_Tag_by_Cat(1).xlsx')"
   ]
  },
  {
   "cell_type": "code",
   "execution_count": 69,
   "metadata": {},
   "outputs": [
    {
     "data": {
      "text/html": [
       "<div>\n",
       "<style scoped>\n",
       "    .dataframe tbody tr th:only-of-type {\n",
       "        vertical-align: middle;\n",
       "    }\n",
       "\n",
       "    .dataframe tbody tr th {\n",
       "        vertical-align: top;\n",
       "    }\n",
       "\n",
       "    .dataframe thead th {\n",
       "        text-align: right;\n",
       "    }\n",
       "</style>\n",
       "<table border=\"1\" class=\"dataframe\">\n",
       "  <thead>\n",
       "    <tr style=\"text-align: right;\">\n",
       "      <th></th>\n",
       "      <th>Unnamed: 0</th>\n",
       "      <th>门店编号</th>\n",
       "      <th>Chocolate销售占比</th>\n",
       "      <th>Chocolate-Tag</th>\n",
       "      <th>Gum销售占比</th>\n",
       "      <th>Gum-Tag</th>\n",
       "      <th>Sugar销售占比</th>\n",
       "      <th>Sugar-Tag</th>\n",
       "    </tr>\n",
       "  </thead>\n",
       "  <tbody>\n",
       "    <tr>\n",
       "      <th>0</th>\n",
       "      <td>0</td>\n",
       "      <td>50954241</td>\n",
       "      <td>0.6078</td>\n",
       "      <td>中</td>\n",
       "      <td>0.3922</td>\n",
       "      <td>中</td>\n",
       "      <td>0.000</td>\n",
       "      <td>弱</td>\n",
       "    </tr>\n",
       "    <tr>\n",
       "      <th>1</th>\n",
       "      <td>1</td>\n",
       "      <td>50954245</td>\n",
       "      <td>0.0439</td>\n",
       "      <td>弱</td>\n",
       "      <td>0.0481</td>\n",
       "      <td>弱</td>\n",
       "      <td>0.908</td>\n",
       "      <td>强</td>\n",
       "    </tr>\n",
       "    <tr>\n",
       "      <th>2</th>\n",
       "      <td>2</td>\n",
       "      <td>50987014</td>\n",
       "      <td>0.0000</td>\n",
       "      <td>弱</td>\n",
       "      <td>1.0000</td>\n",
       "      <td>强</td>\n",
       "      <td>0.000</td>\n",
       "      <td>弱</td>\n",
       "    </tr>\n",
       "  </tbody>\n",
       "</table>\n",
       "</div>"
      ],
      "text/plain": [
       "   Unnamed: 0      门店编号  Chocolate销售占比 Chocolate-Tag  Gum销售占比 Gum-Tag  \\\n",
       "0           0  50954241         0.6078             中   0.3922       中   \n",
       "1           1  50954245         0.0439             弱   0.0481       弱   \n",
       "2           2  50987014         0.0000             弱   1.0000       强   \n",
       "\n",
       "   Sugar销售占比 Sugar-Tag  \n",
       "0      0.000         弱  \n",
       "1      0.908         强  \n",
       "2      0.000         弱  "
      ]
     },
     "execution_count": 69,
     "metadata": {},
     "output_type": "execute_result"
    }
   ],
   "source": [
    "df_22.head(3)"
   ]
  },
  {
   "cell_type": "code",
   "execution_count": 84,
   "metadata": {},
   "outputs": [],
   "source": []
  },
  {
   "cell_type": "code",
   "execution_count": 85,
   "metadata": {},
   "outputs": [],
   "source": [
    "df_POI_zong = pd.read_excel(r'C:\\Users\\Administrator\\Desktop\\任务一\\All_Store_POI纵.xlsx')"
   ]
  },
  {
   "cell_type": "code",
   "execution_count": 92,
   "metadata": {},
   "outputs": [],
   "source": [
    "# 取出Chocolate-Tag为强的门店编号\n",
    "id_cho_1 = list(df_22.loc[df_22['Sugar-Tag']=='强','门店编号'])"
   ]
  },
  {
   "cell_type": "code",
   "execution_count": 93,
   "metadata": {},
   "outputs": [],
   "source": [
    "demo1_POI=df_POI_zong.loc[df_POI_zong['storecode'].isin(id_cho_1)]"
   ]
  },
  {
   "cell_type": "code",
   "execution_count": 94,
   "metadata": {},
   "outputs": [],
   "source": [
    "demo1_POI_id = list(demo1_POI['storecode'])\n",
    "demo1_POI_id = list(set(demo1_POI_id))\n",
    "# demo1_POI_id门店巧克力销售加总\n",
    "demo1_POI_id_cho_sum=[] \n",
    "for i in range(len(demo1_POI_id)):\n",
    "    uu = df1.loc[df1['store_code']==demo1_POI_id[i]]\n",
    "    sum_1 = uu.loc[uu['ProductCategory']=='Sugar','case_ordered'].sum()\n",
    "    demo1_POI_id_cho_sum.append(sum_1)"
   ]
  },
  {
   "cell_type": "code",
   "execution_count": 95,
   "metadata": {},
   "outputs": [
    {
     "name": "stderr",
     "output_type": "stream",
     "text": [
      "E:\\My large programming\\Anaconda3\\lib\\site-packages\\ipykernel_launcher.py:11: SettingWithCopyWarning: \n",
      "A value is trying to be set on a copy of a slice from a DataFrame\n",
      "\n",
      "See the caveats in the documentation: https://pandas.pydata.org/pandas-docs/stable/user_guide/indexing.html#returning-a-view-versus-a-copy\n",
      "  # This is added back by InteractiveShellApp.init_path()\n",
      "E:\\My large programming\\Anaconda3\\lib\\site-packages\\ipykernel_launcher.py:22: SettingWithCopyWarning: \n",
      "A value is trying to be set on a copy of a slice from a DataFrame.\n",
      "Try using .loc[row_indexer,col_indexer] = value instead\n",
      "\n",
      "See the caveats in the documentation: https://pandas.pydata.org/pandas-docs/stable/user_guide/indexing.html#returning-a-view-versus-a-copy\n"
     ]
    }
   ],
   "source": [
    "# demo1_POI赋上销量信息\n",
    "# 构建门店编号及其销量信息的表\n",
    "data3={\n",
    "    'demo1_POI_id':demo1_POI_id,\n",
    "    'demo1_POI_id_cho_sum':demo1_POI_id_cho_sum\n",
    "}\n",
    "data3=pd.DataFrame(data3)\n",
    "data3.sort_values(by='demo1_POI_id',inplace=True)\n",
    "\n",
    "k5_1=demo1_POI\n",
    "k5_1.sort_values(by='storecode',inplace=True)\n",
    "\n",
    "sum_2=list(data3['demo1_POI_id_cho_sum'])\n",
    "s_id =list(data3['demo1_POI_id'])\n",
    "\n",
    "sum_3 =[]\n",
    "for i in range(len(s_id)):\n",
    "    cc=len(k5_1.loc[k5_1['storecode']==s_id[i]])\n",
    "    for j in range(cc):\n",
    "        sum_3.append(sum_2[i])\n",
    "\n",
    "k5_1['总销量']=sum_3"
   ]
  },
  {
   "cell_type": "code",
   "execution_count": 96,
   "metadata": {},
   "outputs": [],
   "source": [
    "# k5_1相同POI销量相加\n",
    "k5_4 = k5_1.groupby(['s_cat_id','s_cat_value'])['总销量'].sum()\n",
    "k5_4 = k5_4.reset_index()\n",
    "k5_4.sort_values(['总销量'],ascending=[0],inplace=True)\n",
    "tt= list(k5_4['s_cat_id'])\n",
    "r1=[]\n",
    "r2=[]\n",
    "r3=[]\n",
    "r4=[]\n",
    "for i in range(len(tt)):\n",
    "    r1.append(list(set(list(k5_1.loc[k5_1['s_cat_id']==tt[i],'b_cat_id'])))[0])\n",
    "    r2.append(list(set(list(k5_1.loc[k5_1['s_cat_id']==tt[i],'b_cat_value'])))[0])\n",
    "    r3.append(list(set(list(k5_1.loc[k5_1['s_cat_id']==tt[i],'m_cat_id'])))[0])\n",
    "    r4.append(list(set(list(k5_1.loc[k5_1['s_cat_id']==tt[i],'m_cat_value'])))[0])\n",
    "k5_4['b_cat_id']=r1\n",
    "k5_4['b_cat_value']=r2\n",
    "k5_4['m_cat_id']=r3\n",
    "k5_4['m_cat_value']=r4\n",
    "\n",
    "k5_4=k5_4[['b_cat_id','b_cat_value','m_cat_id','m_cat_value','s_cat_id','s_cat_value','总销量']]"
   ]
  },
  {
   "cell_type": "code",
   "execution_count": 97,
   "metadata": {},
   "outputs": [],
   "source": [
    "# POI_Chocolate_Strong\n",
    "k5_4.to_excel(r'C:\\Users\\Administrator\\Desktop\\POI_Sugar_Strong.xlsx')"
   ]
  },
  {
   "cell_type": "code",
   "execution_count": 98,
   "metadata": {},
   "outputs": [],
   "source": [
    "#Top_15_POI_Chocolate_Strong\n",
    "k5_4_top15=k5_4.head(15)\n",
    "k5_4_top15.to_excel(r'C:\\Users\\Administrator\\Desktop\\Top_15_Sugar_Gum_Strong.xlsx')"
   ]
  },
  {
   "cell_type": "code",
   "execution_count": null,
   "metadata": {},
   "outputs": [],
   "source": []
  },
  {
   "cell_type": "markdown",
   "metadata": {},
   "source": [
    "## d. 按出现次数统计出弱品类门店的top10\n",
    "\n"
   ]
  },
  {
   "cell_type": "markdown",
   "metadata": {},
   "source": [
    "（1）\t求出巧克力弱门店每个门店去重后排序TOP10的POI；  \n",
    "（2）\t统计出（1）中每个POI出现的次数，降序排序；  \n",
    "（3）\t选取（2）中出现次数做多的10个POI；  \n",
    "（4）\t糖果和口香糖的计算过程如上"
   ]
  },
  {
   "cell_type": "code",
   "execution_count": 107,
   "metadata": {},
   "outputs": [],
   "source": [
    "# 取出Sugar为弱的门店编号,并从df_POI_zong中取出对应的POI\n",
    "id_sug_1 = list(df_22.loc[df_22['Gum-Tag']=='弱','门店编号'])\n",
    "demo1_POI=df_POI_zong.loc[df_POI_zong['storecode'].isin(id_sug_1)]"
   ]
  },
  {
   "cell_type": "code",
   "execution_count": 108,
   "metadata": {},
   "outputs": [
    {
     "name": "stderr",
     "output_type": "stream",
     "text": [
      "E:\\My large programming\\Anaconda3\\lib\\site-packages\\ipykernel_launcher.py:3: SettingWithCopyWarning: \n",
      "A value is trying to be set on a copy of a slice from a DataFrame.\n",
      "Try using .loc[row_indexer,col_indexer] = value instead\n",
      "\n",
      "See the caveats in the documentation: https://pandas.pydata.org/pandas-docs/stable/user_guide/indexing.html#returning-a-view-versus-a-copy\n",
      "  This is separate from the ipykernel package so we can avoid doing imports until\n"
     ]
    }
   ],
   "source": [
    "# 统计POI出现次数，降序\n",
    "k1_1 = demo1_POI\n",
    "k1_1['nums']=0\n",
    "uu_1=list(k1_1.groupby(['s_cat_id']).count()['nums'].index) # 表示s_cat_id\n",
    "uu_2=list(k1_1.groupby(['s_cat_id']).count()['nums'].values) # 表示出现次数\n",
    "uu_3=[]\n",
    "uu_4=[]\n",
    "uu_5=[]\n",
    "uu_6=[]\n",
    "uu_7=[]\n",
    "# 'b_cat_id','b_cat_value','m_cat_id','m_cat_value'\n",
    "for i in range(len(uu_1)):\n",
    "    f1=list(k1_1.loc[k1_1['s_cat_id']==uu_1[i],'b_cat_id'])[0]\n",
    "    f2=list(k1_1.loc[k1_1['s_cat_id']==uu_1[i],'b_cat_value'])[0]\n",
    "    f3=list(k1_1.loc[k1_1['s_cat_id']==uu_1[i],'m_cat_id'])[0]\n",
    "    f4=list(k1_1.loc[k1_1['s_cat_id']==uu_1[i],'m_cat_value'])[0]\n",
    "    f5=list(k1_1.loc[k1_1['s_cat_id']==uu_1[i],'s_cat_value'])[0]\n",
    "    uu_3.append(f1)\n",
    "    uu_4.append(f2)\n",
    "    uu_5.append(f3)\n",
    "    uu_6.append(f4)\n",
    "    uu_7.append(f5)\n",
    "\n",
    "data3={\n",
    "    'b_cat_id':uu_3,\n",
    "    'b_cat_value':uu_4,\n",
    "    'm_cat_id':uu_5,\n",
    "    'm_cat_value':uu_6,\n",
    "    's_cat_id':uu_1,\n",
    "    's_cat_value':uu_7,\n",
    "    '出现次数':uu_2\n",
    "    \n",
    "}\n",
    "k1_2=pd.DataFrame(data3)\n",
    "# 降序\n",
    "k1_3=k1_2.sort_values(by='出现次数',ascending=False)"
   ]
  },
  {
   "cell_type": "code",
   "execution_count": 109,
   "metadata": {},
   "outputs": [],
   "source": [
    "# \n",
    "k1_3.to_excel(r'C:\\Users\\Administrator\\Desktop\\POI_Gum_Weak_frequency.xlsx')"
   ]
  },
  {
   "cell_type": "code",
   "execution_count": 110,
   "metadata": {},
   "outputs": [],
   "source": [
    "kio=k1_3.head(15)\n",
    "kio.to_excel(r'C:\\Users\\Administrator\\Desktop\\Top_15_POI_Gum_Weak_frequency.xlsx')"
   ]
  },
  {
   "cell_type": "code",
   "execution_count": null,
   "metadata": {},
   "outputs": [],
   "source": []
  }
 ],
 "metadata": {
  "kernelspec": {
   "display_name": "Python 3",
   "language": "python",
   "name": "python3"
  },
  "language_info": {
   "codemirror_mode": {
    "name": "ipython",
    "version": 3
   },
   "file_extension": ".py",
   "mimetype": "text/x-python",
   "name": "python",
   "nbconvert_exporter": "python",
   "pygments_lexer": "ipython3",
   "version": "3.7.6"
  }
 },
 "nbformat": 4,
 "nbformat_minor": 4
}
