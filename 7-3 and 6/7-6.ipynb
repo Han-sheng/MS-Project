{
 "cells": [
  {
   "cell_type": "code",
   "execution_count": 1,
   "metadata": {},
   "outputs": [],
   "source": [
    "# 导入数据\n",
    "import pandas as pd\n",
    "df = pd.read_excel(r'D:\\研究生资料\\玛氏数据\\7-5\\雪峰访店频率-XGBOOST(1).xlsx',sheet_name='测试数据')"
   ]
  },
  {
   "cell_type": "code",
   "execution_count": 2,
   "metadata": {},
   "outputs": [
    {
     "data": {
      "text/plain": [
       "array(['亭摊档和其他', '仓卖店', '烟酒店', '食杂店', '小型超市C', '临街餐饮'], dtype=object)"
      ]
     },
     "execution_count": 2,
     "metadata": {},
     "output_type": "execute_result"
    }
   ],
   "source": [
    "df['channel_name3'].unique()"
   ]
  },
  {
   "cell_type": "code",
   "execution_count": 3,
   "metadata": {},
   "outputs": [],
   "source": [
    "aa=['亭摊档和其他', '仓卖店', '烟酒店', '食杂店', '小型超市C', '临街餐饮']\n",
    "df.insert(loc=2,column='label',value=df['channel_name3'].apply(lambda x : aa.index(x)+1))"
   ]
  },
  {
   "cell_type": "code",
   "execution_count": 4,
   "metadata": {},
   "outputs": [],
   "source": [
    "df.to_excel(r'D:\\研究生资料\\玛氏数据\\7-5\\测试数据2.xlsx')"
   ]
  },
  {
   "cell_type": "code",
   "execution_count": null,
   "metadata": {},
   "outputs": [],
   "source": []
  },
  {
   "cell_type": "code",
   "execution_count": 5,
   "metadata": {},
   "outputs": [],
   "source": [
    "#xuefeng -XGBOOST\n",
    "df2 = pd.read_excel(r'D:\\研究生资料\\玛氏数据\\7-5\\xuefeng -XGBOOST.xlsx')"
   ]
  },
  {
   "cell_type": "code",
   "execution_count": 6,
   "metadata": {},
   "outputs": [
    {
     "data": {
      "text/html": [
       "<div>\n",
       "<style scoped>\n",
       "    .dataframe tbody tr th:only-of-type {\n",
       "        vertical-align: middle;\n",
       "    }\n",
       "\n",
       "    .dataframe tbody tr th {\n",
       "        vertical-align: top;\n",
       "    }\n",
       "\n",
       "    .dataframe thead th {\n",
       "        text-align: right;\n",
       "    }\n",
       "</style>\n",
       "<table border=\"1\" class=\"dataframe\">\n",
       "  <thead>\n",
       "    <tr style=\"text-align: right;\">\n",
       "      <th></th>\n",
       "      <th>store_code</th>\n",
       "      <th>channel_name3</th>\n",
       "      <th>time_to_last</th>\n",
       "      <th>order_month_this</th>\n",
       "      <th>order_year_this</th>\n",
       "      <th>last_order_case</th>\n",
       "      <th>avg_case_3M</th>\n",
       "      <th>week2_visited</th>\n",
       "      <th>is_promotion</th>\n",
       "      <th>next_order_date</th>\n",
       "      <th>next_order_sum</th>\n",
       "      <th>time_to_next</th>\n",
       "      <th>next_order_year</th>\n",
       "      <th>next_order_month</th>\n",
       "    </tr>\n",
       "  </thead>\n",
       "  <tbody>\n",
       "    <tr>\n",
       "      <th>0</th>\n",
       "      <td>50007025</td>\n",
       "      <td>小型超市C</td>\n",
       "      <td>21</td>\n",
       "      <td>11</td>\n",
       "      <td>2019</td>\n",
       "      <td>2.691667</td>\n",
       "      <td>4.573264</td>\n",
       "      <td>0</td>\n",
       "      <td>1</td>\n",
       "      <td>2019-11-28 11:42:50</td>\n",
       "      <td>390.04</td>\n",
       "      <td>20</td>\n",
       "      <td>2019</td>\n",
       "      <td>11</td>\n",
       "    </tr>\n",
       "    <tr>\n",
       "      <th>1</th>\n",
       "      <td>50018951</td>\n",
       "      <td>小型超市C</td>\n",
       "      <td>18</td>\n",
       "      <td>12</td>\n",
       "      <td>2019</td>\n",
       "      <td>0.966667</td>\n",
       "      <td>0.791667</td>\n",
       "      <td>0</td>\n",
       "      <td>1</td>\n",
       "      <td>2019-12-24 15:38:09</td>\n",
       "      <td>105.00</td>\n",
       "      <td>15</td>\n",
       "      <td>2019</td>\n",
       "      <td>12</td>\n",
       "    </tr>\n",
       "    <tr>\n",
       "      <th>2</th>\n",
       "      <td>50018981</td>\n",
       "      <td>小型超市C</td>\n",
       "      <td>63</td>\n",
       "      <td>3</td>\n",
       "      <td>2020</td>\n",
       "      <td>2.850000</td>\n",
       "      <td>2.850000</td>\n",
       "      <td>0</td>\n",
       "      <td>1</td>\n",
       "      <td>2020-04-10 14:26:59</td>\n",
       "      <td>113.92</td>\n",
       "      <td>38</td>\n",
       "      <td>2020</td>\n",
       "      <td>4</td>\n",
       "    </tr>\n",
       "  </tbody>\n",
       "</table>\n",
       "</div>"
      ],
      "text/plain": [
       "   store_code channel_name3  time_to_last  order_month_this  order_year_this  \\\n",
       "0    50007025         小型超市C            21                11             2019   \n",
       "1    50018951         小型超市C            18                12             2019   \n",
       "2    50018981         小型超市C            63                 3             2020   \n",
       "\n",
       "   last_order_case  avg_case_3M  week2_visited  is_promotion  \\\n",
       "0         2.691667     4.573264              0             1   \n",
       "1         0.966667     0.791667              0             1   \n",
       "2         2.850000     2.850000              0             1   \n",
       "\n",
       "      next_order_date  next_order_sum  time_to_next  next_order_year  \\\n",
       "0 2019-11-28 11:42:50          390.04            20             2019   \n",
       "1 2019-12-24 15:38:09          105.00            15             2019   \n",
       "2 2020-04-10 14:26:59          113.92            38             2020   \n",
       "\n",
       "   next_order_month  \n",
       "0                11  \n",
       "1                12  \n",
       "2                 4  "
      ]
     },
     "execution_count": 6,
     "metadata": {},
     "output_type": "execute_result"
    }
   ],
   "source": [
    "df2.head(3)"
   ]
  },
  {
   "cell_type": "code",
   "execution_count": 9,
   "metadata": {},
   "outputs": [
    {
     "data": {
      "text/plain": [
       "['小型超市C',\n",
       " '亭摊档和其他',\n",
       " '仓卖店',\n",
       " '食杂店',\n",
       " '烟酒店',\n",
       " '小型超市A',\n",
       " '其他',\n",
       " '临街餐饮',\n",
       " '小型超市B',\n",
       " '大众便利店',\n",
       " '加油站',\n",
       " '婚庆',\n",
       " '餐饮测试项目',\n",
       " '连锁餐饮',\n",
       " '药店',\n",
       " '网吧']"
      ]
     },
     "execution_count": 9,
     "metadata": {},
     "output_type": "execute_result"
    }
   ],
   "source": [
    "list(df2['channel_name3'].unique())"
   ]
  },
  {
   "cell_type": "code",
   "execution_count": 10,
   "metadata": {},
   "outputs": [],
   "source": [
    "bb=list(df2['channel_name3'].unique())\n",
    "df2.insert(loc=2,column='label',value=df2['channel_name3'].apply(lambda x : bb.index(x)+1))"
   ]
  },
  {
   "cell_type": "code",
   "execution_count": 11,
   "metadata": {},
   "outputs": [],
   "source": [
    "df2.to_excel(r'D:\\研究生资料\\玛氏数据\\7-5\\xuefeng -XGBOOST(2).xlsx')"
   ]
  },
  {
   "cell_type": "code",
   "execution_count": null,
   "metadata": {},
   "outputs": [],
   "source": []
  }
 ],
 "metadata": {
  "kernelspec": {
   "display_name": "Python 3",
   "language": "python",
   "name": "python3"
  },
  "language_info": {
   "codemirror_mode": {
    "name": "ipython",
    "version": 3
   },
   "file_extension": ".py",
   "mimetype": "text/x-python",
   "name": "python",
   "nbconvert_exporter": "python",
   "pygments_lexer": "ipython3",
   "version": "3.7.6"
  }
 },
 "nbformat": 4,
 "nbformat_minor": 4
}
